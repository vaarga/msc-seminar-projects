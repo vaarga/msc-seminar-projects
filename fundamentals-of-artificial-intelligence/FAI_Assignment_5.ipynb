{
  "nbformat": 4,
  "nbformat_minor": 0,
  "metadata": {
    "colab": {
      "provenance": []
    },
    "kernelspec": {
      "name": "python3",
      "display_name": "Python 3"
    },
    "language_info": {
      "name": "python"
    }
  },
  "cells": [
    {
      "cell_type": "markdown",
      "source": [
        "### Mount Google drive"
      ],
      "metadata": {
        "id": "M8U6rZcKTPbC"
      }
    },
    {
      "cell_type": "code",
      "source": [
        "from google.colab import drive\n",
        "\n",
        "drive.mount('/content/drive')"
      ],
      "metadata": {
        "colab": {
          "base_uri": "https://localhost:8080/"
        },
        "id": "z8zXYMlBTK1J",
        "outputId": "456fdef8-ff30-44d2-ebf3-32df10451a83"
      },
      "execution_count": null,
      "outputs": [
        {
          "output_type": "stream",
          "name": "stdout",
          "text": [
            "Drive already mounted at /content/drive; to attempt to forcibly remount, call drive.mount(\"/content/drive\", force_remount=True).\n"
          ]
        }
      ]
    },
    {
      "cell_type": "markdown",
      "source": [
        "### General code"
      ],
      "metadata": {
        "id": "yxQuj3fCsdE1"
      }
    },
    {
      "cell_type": "code",
      "execution_count": null,
      "metadata": {
        "id": "9AQDhdE9pluH"
      },
      "outputs": [],
      "source": [
        "import pandas as pd\n",
        "\n",
        "def get_X_and_y(is_train_data=True):\n",
        "    '''X is the feature matrix and y is the label vector'''\n",
        "    filename_ending = 'train' if is_train_data else 'test'\n",
        "\n",
        "    data = pd.read_csv(f'/content/drive/MyDrive/SPECT/SPECT.{filename_ending}', header=None)\n",
        "\n",
        "    return data.iloc[:, 1:], data.iloc[:, 0]\n",
        "\n",
        "X_train, y_train = get_X_and_y()\n",
        "X_test, y_test = get_X_and_y(False)"
      ]
    },
    {
      "cell_type": "markdown",
      "source": [
        "### Applying the Scikit-learn implementation of Naive Bayes classifier"
      ],
      "metadata": {
        "id": "sFTYu-q3z9L_"
      }
    },
    {
      "cell_type": "code",
      "source": [
        "from sklearn.naive_bayes import BernoulliNB\n",
        "\n",
        "# Instantiate the classifier\n",
        "clfBNB = BernoulliNB(binarize=0)\n",
        "\n",
        "# Train the model\n",
        "clfBNB.fit(X_train, y_train)\n",
        "\n",
        "# Test the model\n",
        "clfBNB.score(X_test, y_test)"
      ],
      "metadata": {
        "id": "wdTlAz0CtHSK",
        "colab": {
          "base_uri": "https://localhost:8080/"
        },
        "outputId": "8b18b0c7-4022-4d9a-b3ba-ec1505f58349"
      },
      "execution_count": null,
      "outputs": [
        {
          "output_type": "execute_result",
          "data": {
            "text/plain": [
              "0.7486631016042781"
            ]
          },
          "metadata": {},
          "execution_count": 38
        }
      ]
    },
    {
      "cell_type": "markdown",
      "source": [
        "### Implementation (from scratch) of the Naive Bayes classifier"
      ],
      "metadata": {
        "id": "hD1R2brCUdGs"
      }
    },
    {
      "cell_type": "code",
      "source": [
        "class NaiveBayesClassifier:\n",
        "  nr_of_features = 0\n",
        "\n",
        "  # probabilities based on relative frequencies\n",
        "  pbrf = {\n",
        "      'y_is_1': {\n",
        "          'X_is_1': [],\n",
        "          'X_is_0': [],\n",
        "          'prob': 0,\n",
        "      },\n",
        "      'y_is_0': {\n",
        "          'X_is_1': [],\n",
        "          'X_is_0': [],\n",
        "          'prob': 0,\n",
        "      }\n",
        "  }\n",
        "\n",
        "  def fit(self, X_train, y_train):\n",
        "    self.nr_of_features = len(X_train.columns)\n",
        "\n",
        "    X_is_1 = {\n",
        "        'y_is_1': [0] * self.nr_of_features,\n",
        "        'y_is_0': [0] * self.nr_of_features,\n",
        "    }\n",
        "\n",
        "    nr_of_samples = {\n",
        "        'y_is_1': 0,\n",
        "        'y_is_0': 0,\n",
        "    }\n",
        "\n",
        "    for i, x in X_train.iterrows():\n",
        "      y_is_1_or_0 = f\"y_is_{y_train[i]}\"\n",
        "\n",
        "      nr_of_samples[y_is_1_or_0] += 1\n",
        "\n",
        "      for j in range(self.nr_of_features):\n",
        "        X_is_1[y_is_1_or_0][j] += x[j + 1]\n",
        "\n",
        "    self.pbrf['y_is_1']['X_is_1'] = [x / nr_of_samples['y_is_1'] for x in X_is_1['y_is_1']]\n",
        "    self.pbrf['y_is_0']['X_is_1'] = [x / nr_of_samples['y_is_0'] for x in X_is_1['y_is_0']]\n",
        "\n",
        "    self.pbrf['y_is_1']['X_is_0'] = [1 - x for x in self.pbrf['y_is_1']['X_is_1']]\n",
        "    self.pbrf['y_is_0']['X_is_0'] = [1 - x for x in self.pbrf['y_is_0']['X_is_1']]\n",
        "\n",
        "    total_nr_of_samples = nr_of_samples['y_is_1'] + nr_of_samples['y_is_0']\n",
        "\n",
        "    self.pbrf['y_is_1']['prob'] = nr_of_samples['y_is_1'] / total_nr_of_samples\n",
        "    self.pbrf['y_is_0']['prob'] = nr_of_samples['y_is_0'] / total_nr_of_samples\n",
        "\n",
        "  def get_1_or_0_label_prob(self, features, label = 1):\n",
        "    label_prob = 1\n",
        "\n",
        "    for j in range(self.nr_of_features):\n",
        "      label_prob *= self.pbrf[f'y_is_{label}'][f'X_is_{features[j + 1]}'][j]\n",
        "\n",
        "    label_prob *= self.pbrf[f'y_is_{label}']['prob']\n",
        "\n",
        "    return label_prob\n",
        "\n",
        "\n",
        "  def predict(self, features):\n",
        "    return int(self.get_1_or_0_label_prob(features) > self.get_1_or_0_label_prob(features, 0))\n",
        "\n",
        "  def score(self, X_test, y_test):\n",
        "    nr_of_correct_predictions = 0\n",
        "\n",
        "    for i, x in X_test.iterrows():\n",
        "\n",
        "      if y_test[i] == self.predict(x):\n",
        "        nr_of_correct_predictions += 1\n",
        "\n",
        "    return nr_of_correct_predictions / len(X_test.index)\n",
        "\n",
        "# Instantiate the classifier\n",
        "clfNB = NaiveBayesClassifier()\n",
        "\n",
        "# Train the model\n",
        "clfNB.fit(X_train, y_train)\n",
        "\n",
        "# Test the model\n",
        "clfNB.score(X_test, y_test)"
      ],
      "metadata": {
        "colab": {
          "base_uri": "https://localhost:8080/"
        },
        "id": "wt898gMLzd76",
        "outputId": "9277b4d7-c638-4517-ff0c-f039c787c967"
      },
      "execution_count": null,
      "outputs": [
        {
          "output_type": "execute_result",
          "data": {
            "text/plain": [
              "0.7754010695187166"
            ]
          },
          "metadata": {},
          "execution_count": 39
        }
      ]
    }
  ]
}