{
  "nbformat": 4,
  "nbformat_minor": 0,
  "metadata": {
    "colab": {
      "provenance": []
    },
    "kernelspec": {
      "name": "python3",
      "display_name": "Python 3"
    },
    "language_info": {
      "name": "python"
    }
  },
  "cells": [
    {
      "cell_type": "markdown",
      "source": [
        "# Data Mining - Homework 1"
      ],
      "metadata": {
        "id": "zu6QA2ntGtRU"
      }
    },
    {
      "cell_type": "code",
      "execution_count": null,
      "metadata": {
        "colab": {
          "base_uri": "https://localhost:8080/"
        },
        "id": "IUFJfonLCOsA",
        "outputId": "ec7ebd00-4ab9-405f-b9aa-f064fb6386a6"
      },
      "outputs": [
        {
          "output_type": "stream",
          "name": "stdout",
          "text": [
            "Mounted at /content/gdrive/\n"
          ]
        }
      ],
      "source": [
        "from google.colab import drive\n",
        "\n",
        "drive.mount('/content/gdrive/', force_remount=True)"
      ]
    },
    {
      "cell_type": "code",
      "source": [
        "import pandas as pd\n",
        "\n",
        "data_set_train = pd.read_csv(\"/content/gdrive/MyDrive/DataMining/loan_sanction_train.csv\")\n",
        "data_set_test = pd.read_csv(\"/content/gdrive/MyDrive/DataMining/loan_sanction_test.csv\")\n",
        "\n",
        "data_set = pd.concat([data_set_train, data_set_test])\n",
        "\n",
        "data_set.head()"
      ],
      "metadata": {
        "id": "0giLycAlCR7-",
        "colab": {
          "base_uri": "https://localhost:8080/",
          "height": 206
        },
        "outputId": "fdd8930b-ef2d-45a5-b791-108383fd3a5c"
      },
      "execution_count": null,
      "outputs": [
        {
          "output_type": "execute_result",
          "data": {
            "text/plain": [
              "    Loan_ID Gender Married Dependents     Education Self_Employed  \\\n",
              "0  LP001002   Male      No          0      Graduate            No   \n",
              "1  LP001003   Male     Yes          1      Graduate            No   \n",
              "2  LP001005   Male     Yes          0      Graduate           Yes   \n",
              "3  LP001006   Male     Yes          0  Not Graduate            No   \n",
              "4  LP001008   Male      No          0      Graduate            No   \n",
              "\n",
              "   ApplicantIncome  CoapplicantIncome  LoanAmount  Loan_Amount_Term  \\\n",
              "0             5849                0.0         NaN             360.0   \n",
              "1             4583             1508.0       128.0             360.0   \n",
              "2             3000                0.0        66.0             360.0   \n",
              "3             2583             2358.0       120.0             360.0   \n",
              "4             6000                0.0       141.0             360.0   \n",
              "\n",
              "   Credit_History Property_Area Loan_Status  \n",
              "0             1.0         Urban           Y  \n",
              "1             1.0         Rural           N  \n",
              "2             1.0         Urban           Y  \n",
              "3             1.0         Urban           Y  \n",
              "4             1.0         Urban           Y  "
            ],
            "text/html": [
              "\n",
              "  <div id=\"df-ed677ccc-c172-47c5-a086-c46923444855\">\n",
              "    <div class=\"colab-df-container\">\n",
              "      <div>\n",
              "<style scoped>\n",
              "    .dataframe tbody tr th:only-of-type {\n",
              "        vertical-align: middle;\n",
              "    }\n",
              "\n",
              "    .dataframe tbody tr th {\n",
              "        vertical-align: top;\n",
              "    }\n",
              "\n",
              "    .dataframe thead th {\n",
              "        text-align: right;\n",
              "    }\n",
              "</style>\n",
              "<table border=\"1\" class=\"dataframe\">\n",
              "  <thead>\n",
              "    <tr style=\"text-align: right;\">\n",
              "      <th></th>\n",
              "      <th>Loan_ID</th>\n",
              "      <th>Gender</th>\n",
              "      <th>Married</th>\n",
              "      <th>Dependents</th>\n",
              "      <th>Education</th>\n",
              "      <th>Self_Employed</th>\n",
              "      <th>ApplicantIncome</th>\n",
              "      <th>CoapplicantIncome</th>\n",
              "      <th>LoanAmount</th>\n",
              "      <th>Loan_Amount_Term</th>\n",
              "      <th>Credit_History</th>\n",
              "      <th>Property_Area</th>\n",
              "      <th>Loan_Status</th>\n",
              "    </tr>\n",
              "  </thead>\n",
              "  <tbody>\n",
              "    <tr>\n",
              "      <th>0</th>\n",
              "      <td>LP001002</td>\n",
              "      <td>Male</td>\n",
              "      <td>No</td>\n",
              "      <td>0</td>\n",
              "      <td>Graduate</td>\n",
              "      <td>No</td>\n",
              "      <td>5849</td>\n",
              "      <td>0.0</td>\n",
              "      <td>NaN</td>\n",
              "      <td>360.0</td>\n",
              "      <td>1.0</td>\n",
              "      <td>Urban</td>\n",
              "      <td>Y</td>\n",
              "    </tr>\n",
              "    <tr>\n",
              "      <th>1</th>\n",
              "      <td>LP001003</td>\n",
              "      <td>Male</td>\n",
              "      <td>Yes</td>\n",
              "      <td>1</td>\n",
              "      <td>Graduate</td>\n",
              "      <td>No</td>\n",
              "      <td>4583</td>\n",
              "      <td>1508.0</td>\n",
              "      <td>128.0</td>\n",
              "      <td>360.0</td>\n",
              "      <td>1.0</td>\n",
              "      <td>Rural</td>\n",
              "      <td>N</td>\n",
              "    </tr>\n",
              "    <tr>\n",
              "      <th>2</th>\n",
              "      <td>LP001005</td>\n",
              "      <td>Male</td>\n",
              "      <td>Yes</td>\n",
              "      <td>0</td>\n",
              "      <td>Graduate</td>\n",
              "      <td>Yes</td>\n",
              "      <td>3000</td>\n",
              "      <td>0.0</td>\n",
              "      <td>66.0</td>\n",
              "      <td>360.0</td>\n",
              "      <td>1.0</td>\n",
              "      <td>Urban</td>\n",
              "      <td>Y</td>\n",
              "    </tr>\n",
              "    <tr>\n",
              "      <th>3</th>\n",
              "      <td>LP001006</td>\n",
              "      <td>Male</td>\n",
              "      <td>Yes</td>\n",
              "      <td>0</td>\n",
              "      <td>Not Graduate</td>\n",
              "      <td>No</td>\n",
              "      <td>2583</td>\n",
              "      <td>2358.0</td>\n",
              "      <td>120.0</td>\n",
              "      <td>360.0</td>\n",
              "      <td>1.0</td>\n",
              "      <td>Urban</td>\n",
              "      <td>Y</td>\n",
              "    </tr>\n",
              "    <tr>\n",
              "      <th>4</th>\n",
              "      <td>LP001008</td>\n",
              "      <td>Male</td>\n",
              "      <td>No</td>\n",
              "      <td>0</td>\n",
              "      <td>Graduate</td>\n",
              "      <td>No</td>\n",
              "      <td>6000</td>\n",
              "      <td>0.0</td>\n",
              "      <td>141.0</td>\n",
              "      <td>360.0</td>\n",
              "      <td>1.0</td>\n",
              "      <td>Urban</td>\n",
              "      <td>Y</td>\n",
              "    </tr>\n",
              "  </tbody>\n",
              "</table>\n",
              "</div>\n",
              "      <button class=\"colab-df-convert\" onclick=\"convertToInteractive('df-ed677ccc-c172-47c5-a086-c46923444855')\"\n",
              "              title=\"Convert this dataframe to an interactive table.\"\n",
              "              style=\"display:none;\">\n",
              "        \n",
              "  <svg xmlns=\"http://www.w3.org/2000/svg\" height=\"24px\"viewBox=\"0 0 24 24\"\n",
              "       width=\"24px\">\n",
              "    <path d=\"M0 0h24v24H0V0z\" fill=\"none\"/>\n",
              "    <path d=\"M18.56 5.44l.94 2.06.94-2.06 2.06-.94-2.06-.94-.94-2.06-.94 2.06-2.06.94zm-11 1L8.5 8.5l.94-2.06 2.06-.94-2.06-.94L8.5 2.5l-.94 2.06-2.06.94zm10 10l.94 2.06.94-2.06 2.06-.94-2.06-.94-.94-2.06-.94 2.06-2.06.94z\"/><path d=\"M17.41 7.96l-1.37-1.37c-.4-.4-.92-.59-1.43-.59-.52 0-1.04.2-1.43.59L10.3 9.45l-7.72 7.72c-.78.78-.78 2.05 0 2.83L4 21.41c.39.39.9.59 1.41.59.51 0 1.02-.2 1.41-.59l7.78-7.78 2.81-2.81c.8-.78.8-2.07 0-2.86zM5.41 20L4 18.59l7.72-7.72 1.47 1.35L5.41 20z\"/>\n",
              "  </svg>\n",
              "      </button>\n",
              "      \n",
              "  <style>\n",
              "    .colab-df-container {\n",
              "      display:flex;\n",
              "      flex-wrap:wrap;\n",
              "      gap: 12px;\n",
              "    }\n",
              "\n",
              "    .colab-df-convert {\n",
              "      background-color: #E8F0FE;\n",
              "      border: none;\n",
              "      border-radius: 50%;\n",
              "      cursor: pointer;\n",
              "      display: none;\n",
              "      fill: #1967D2;\n",
              "      height: 32px;\n",
              "      padding: 0 0 0 0;\n",
              "      width: 32px;\n",
              "    }\n",
              "\n",
              "    .colab-df-convert:hover {\n",
              "      background-color: #E2EBFA;\n",
              "      box-shadow: 0px 1px 2px rgba(60, 64, 67, 0.3), 0px 1px 3px 1px rgba(60, 64, 67, 0.15);\n",
              "      fill: #174EA6;\n",
              "    }\n",
              "\n",
              "    [theme=dark] .colab-df-convert {\n",
              "      background-color: #3B4455;\n",
              "      fill: #D2E3FC;\n",
              "    }\n",
              "\n",
              "    [theme=dark] .colab-df-convert:hover {\n",
              "      background-color: #434B5C;\n",
              "      box-shadow: 0px 1px 3px 1px rgba(0, 0, 0, 0.15);\n",
              "      filter: drop-shadow(0px 1px 2px rgba(0, 0, 0, 0.3));\n",
              "      fill: #FFFFFF;\n",
              "    }\n",
              "  </style>\n",
              "\n",
              "      <script>\n",
              "        const buttonEl =\n",
              "          document.querySelector('#df-ed677ccc-c172-47c5-a086-c46923444855 button.colab-df-convert');\n",
              "        buttonEl.style.display =\n",
              "          google.colab.kernel.accessAllowed ? 'block' : 'none';\n",
              "\n",
              "        async function convertToInteractive(key) {\n",
              "          const element = document.querySelector('#df-ed677ccc-c172-47c5-a086-c46923444855');\n",
              "          const dataTable =\n",
              "            await google.colab.kernel.invokeFunction('convertToInteractive',\n",
              "                                                     [key], {});\n",
              "          if (!dataTable) return;\n",
              "\n",
              "          const docLinkHtml = 'Like what you see? Visit the ' +\n",
              "            '<a target=\"_blank\" href=https://colab.research.google.com/notebooks/data_table.ipynb>data table notebook</a>'\n",
              "            + ' to learn more about interactive tables.';\n",
              "          element.innerHTML = '';\n",
              "          dataTable['output_type'] = 'display_data';\n",
              "          await google.colab.output.renderOutput(dataTable, element);\n",
              "          const docLink = document.createElement('div');\n",
              "          docLink.innerHTML = docLinkHtml;\n",
              "          element.appendChild(docLink);\n",
              "        }\n",
              "      </script>\n",
              "    </div>\n",
              "  </div>\n",
              "  "
            ]
          },
          "metadata": {},
          "execution_count": 2
        }
      ]
    },
    {
      "cell_type": "markdown",
      "source": [
        "## 1. Describe the dataset with respect to"
      ],
      "metadata": {
        "id": "uxvtCw7PGg3Y"
      }
    },
    {
      "cell_type": "markdown",
      "source": [
        "### a. The number and types of attributes"
      ],
      "metadata": {
        "id": "R5zqBzSnGkbw"
      }
    },
    {
      "cell_type": "code",
      "source": [
        "# Note: The ID column is included (which should be removed at feature selection)\n",
        "print(f'The number of attributes is {data_set.shape[1]}.')"
      ],
      "metadata": {
        "colab": {
          "base_uri": "https://localhost:8080/"
        },
        "id": "VaSGJP9-YqGR",
        "outputId": "cba4865b-58e6-4acb-f81b-23a522e3e5bb"
      },
      "execution_count": null,
      "outputs": [
        {
          "output_type": "stream",
          "name": "stdout",
          "text": [
            "The number of attributes is 13.\n"
          ]
        }
      ]
    },
    {
      "cell_type": "code",
      "source": [
        "ATTRIBUTE_TYPES = {\n",
        "    'numerical': 'numerical',\n",
        "    'ordinal': 'ordinal',\n",
        "    'nominal': 'nominal', # OR categorical\n",
        "    'binary': 'binary',\n",
        "}\n",
        "\n",
        "attributes = {\n",
        "    'Loan_ID': ATTRIBUTE_TYPES['nominal'],\n",
        "    'Gender': ATTRIBUTE_TYPES['nominal'],\n",
        "    'Married': ATTRIBUTE_TYPES['binary'],\n",
        "    'Dependents': ATTRIBUTE_TYPES['ordinal'],\n",
        "    'Education': ATTRIBUTE_TYPES['binary'],\n",
        "    'Self_Employed': ATTRIBUTE_TYPES['binary'],\n",
        "    'ApplicantIncome': ATTRIBUTE_TYPES['numerical'],\n",
        "    'CoapplicantIncome': ATTRIBUTE_TYPES['numerical'],\n",
        "    'LoanAmount': ATTRIBUTE_TYPES['numerical'],\n",
        "    'Loan_Amount_Term': ATTRIBUTE_TYPES['numerical'],\n",
        "    'Credit_History': ATTRIBUTE_TYPES['binary'],\n",
        "    'Property_Area': ATTRIBUTE_TYPES['nominal'],\n",
        "    'Loan_Status': ATTRIBUTE_TYPES['binary']\n",
        "}\n",
        "\n",
        "attributes"
      ],
      "metadata": {
        "colab": {
          "base_uri": "https://localhost:8080/"
        },
        "id": "4QVNuUyLHP1m",
        "outputId": "129f7fcb-8339-4574-8a5d-0b4849c9d20c"
      },
      "execution_count": null,
      "outputs": [
        {
          "output_type": "execute_result",
          "data": {
            "text/plain": [
              "{'Loan_ID': 'nominal',\n",
              " 'Gender': 'nominal',\n",
              " 'Married': 'binary',\n",
              " 'Dependents': 'ordinal',\n",
              " 'Education': 'binary',\n",
              " 'Self_Employed': 'binary',\n",
              " 'ApplicantIncome': 'numerical',\n",
              " 'CoapplicantIncome': 'numerical',\n",
              " 'LoanAmount': 'numerical',\n",
              " 'Loan_Amount_Term': 'numerical',\n",
              " 'Credit_History': 'binary',\n",
              " 'Property_Area': 'nominal',\n",
              " 'Loan_Status': 'binary'}"
            ]
          },
          "metadata": {},
          "execution_count": 4
        }
      ]
    },
    {
      "cell_type": "markdown",
      "source": [
        "### b. Distribution of the instances per classes"
      ],
      "metadata": {
        "id": "8KdY25clZO1d"
      }
    },
    {
      "cell_type": "code",
      "source": [
        "data_set['Loan_Status'].value_counts()"
      ],
      "metadata": {
        "colab": {
          "base_uri": "https://localhost:8080/"
        },
        "id": "tk3PkiP5ZecH",
        "outputId": "7b9af631-83f0-4df9-e1f1-5c871a53cffd"
      },
      "execution_count": null,
      "outputs": [
        {
          "output_type": "execute_result",
          "data": {
            "text/plain": [
              "Y    422\n",
              "N    192\n",
              "Name: Loan_Status, dtype: int64"
            ]
          },
          "metadata": {},
          "execution_count": 5
        }
      ]
    },
    {
      "cell_type": "markdown",
      "source": [
        "## 2. Summarize each of the attributes:"
      ],
      "metadata": {
        "id": "VVIAOodHLHOh"
      }
    },
    {
      "cell_type": "markdown",
      "source": [
        "### a. Numerical: mean, standard deviation, min, max, quartiles\n",
        "\n",
        "### b. Categorical: number of distinct values, mode"
      ],
      "metadata": {
        "id": "Z3L7HURZLLxJ"
      }
    },
    {
      "cell_type": "code",
      "source": [
        "for attribute_name in data_set.columns:\n",
        "  print(data_set[attribute_name].describe())\n",
        "  print('_____________________________')"
      ],
      "metadata": {
        "colab": {
          "base_uri": "https://localhost:8080/"
        },
        "id": "eKh5mmd8DQ0Z",
        "outputId": "513d4eab-c6ab-440b-d49a-8ce7e38f1674"
      },
      "execution_count": null,
      "outputs": [
        {
          "output_type": "stream",
          "name": "stdout",
          "text": [
            "count          981\n",
            "unique         981\n",
            "top       LP001002\n",
            "freq             1\n",
            "Name: Loan_ID, dtype: object\n",
            "_____________________________\n",
            "count      957\n",
            "unique       2\n",
            "top       Male\n",
            "freq       775\n",
            "Name: Gender, dtype: object\n",
            "_____________________________\n",
            "count     978\n",
            "unique      2\n",
            "top       Yes\n",
            "freq      631\n",
            "Name: Married, dtype: object\n",
            "_____________________________\n",
            "count     956\n",
            "unique      4\n",
            "top         0\n",
            "freq      545\n",
            "Name: Dependents, dtype: object\n",
            "_____________________________\n",
            "count          981\n",
            "unique           2\n",
            "top       Graduate\n",
            "freq           763\n",
            "Name: Education, dtype: object\n",
            "_____________________________\n",
            "count     926\n",
            "unique      2\n",
            "top        No\n",
            "freq      807\n",
            "Name: Self_Employed, dtype: object\n",
            "_____________________________\n",
            "count      981.000000\n",
            "mean      5179.795107\n",
            "std       5695.104533\n",
            "min          0.000000\n",
            "25%       2875.000000\n",
            "50%       3800.000000\n",
            "75%       5516.000000\n",
            "max      81000.000000\n",
            "Name: ApplicantIncome, dtype: float64\n",
            "_____________________________\n",
            "count      981.000000\n",
            "mean      1601.916330\n",
            "std       2718.772806\n",
            "min          0.000000\n",
            "25%          0.000000\n",
            "50%       1110.000000\n",
            "75%       2365.000000\n",
            "max      41667.000000\n",
            "Name: CoapplicantIncome, dtype: float64\n",
            "_____________________________\n",
            "count    954.000000\n",
            "mean     142.511530\n",
            "std       77.421743\n",
            "min        9.000000\n",
            "25%      100.000000\n",
            "50%      126.000000\n",
            "75%      162.000000\n",
            "max      700.000000\n",
            "Name: LoanAmount, dtype: float64\n",
            "_____________________________\n",
            "count    961.000000\n",
            "mean     342.201873\n",
            "std       65.100602\n",
            "min        6.000000\n",
            "25%      360.000000\n",
            "50%      360.000000\n",
            "75%      360.000000\n",
            "max      480.000000\n",
            "Name: Loan_Amount_Term, dtype: float64\n",
            "_____________________________\n",
            "count    902.000000\n",
            "mean       0.835920\n",
            "std        0.370553\n",
            "min        0.000000\n",
            "25%        1.000000\n",
            "50%        1.000000\n",
            "75%        1.000000\n",
            "max        1.000000\n",
            "Name: Credit_History, dtype: float64\n",
            "_____________________________\n",
            "count           981\n",
            "unique            3\n",
            "top       Semiurban\n",
            "freq            349\n",
            "Name: Property_Area, dtype: object\n",
            "_____________________________\n",
            "count     614\n",
            "unique      2\n",
            "top         Y\n",
            "freq      422\n",
            "Name: Loan_Status, dtype: object\n",
            "_____________________________\n"
          ]
        }
      ]
    },
    {
      "cell_type": "markdown",
      "source": [
        "## 3. Give an example of a data mining task which can be solved for the dataset"
      ],
      "metadata": {
        "id": "PayaRyvSaIUy"
      }
    },
    {
      "cell_type": "markdown",
      "source": [
        "A data mining task which can be solved for the dataset is **classification**."
      ],
      "metadata": {
        "id": "S734WWF-aNqC"
      }
    }
  ]
}