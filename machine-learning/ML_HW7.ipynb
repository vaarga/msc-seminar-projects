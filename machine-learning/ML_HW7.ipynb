{
  "cells": [
    {
      "cell_type": "markdown",
      "metadata": {
        "id": "ylayqqmDGROj"
      },
      "source": [
        "# Machine Learning - Homework 7"
      ]
    },
    {
      "cell_type": "code",
      "execution_count": null,
      "metadata": {
        "id": "H4K5J2-lGr3p"
      },
      "outputs": [],
      "source": [
        "import pandas as pd\n",
        "from sklearn.model_selection import train_test_split, GridSearchCV\n",
        "from sklearn.feature_selection import (\n",
        "    VarianceThreshold,\n",
        "    mutual_info_classif,\n",
        "    SequentialFeatureSelector,\n",
        "    RFE\n",
        ")\n",
        "from sklearn.tree import DecisionTreeClassifier\n",
        "import matplotlib.pyplot as plt\n",
        "from sklearn.metrics import accuracy_score\n",
        "from sklearn.preprocessing import OrdinalEncoder\n",
        "from sklearn.linear_model import LogisticRegression"
      ]
    },
    {
      "cell_type": "code",
      "source": [
        "def read_csv_and_analyze_dataset(path_to_csv):\n",
        "  dataframe = pd.read_csv(path_to_csv)\n",
        "\n",
        "  print(\"The dataset:\")\n",
        "  print(dataframe, end='\\n\\n')\n",
        "\n",
        "  print(\"All the unique values for all columns that contain discrete values:\")\n",
        "\n",
        "  for column_name in dataframe:\n",
        "    if not pd.api.types.is_numeric_dtype(dataframe[column_name]):\n",
        "      print(f\"\\n{column_name}:\")\n",
        "\n",
        "      for unique_value in dataframe[column_name].unique():\n",
        "        print(f\"{unique_value} ({len(dataframe.loc[dataframe[column_name] == unique_value])})\")\n",
        "\n",
        "  print()\n",
        "\n",
        "  return dataframe"
      ],
      "metadata": {
        "id": "DBuSUBksxdiE"
      },
      "execution_count": null,
      "outputs": []
    },
    {
      "cell_type": "markdown",
      "metadata": {
        "id": "AnDr2B46GamA"
      },
      "source": [
        "## For the customer satisfaction data (370 attributes) from https://www.kaggle.com/competitions/santander-customer-satisfaction/overview"
      ]
    },
    {
      "cell_type": "markdown",
      "source": [
        "### Apply 2 filter methods and 1 wrapper technique with the ML model of your choice"
      ],
      "metadata": {
        "id": "Qrc1nD9WfPmy"
      }
    },
    {
      "cell_type": "code",
      "execution_count": null,
      "metadata": {
        "colab": {
          "base_uri": "https://localhost:8080/"
        },
        "id": "XKBr9fLF6k29",
        "outputId": "e8b6e1d5-c025-4227-d90e-36ae9c798a4a"
      },
      "outputs": [
        {
          "output_type": "stream",
          "name": "stdout",
          "text": [
            "The dataset:\n",
            "           ID  var3  var15  imp_ent_var16_ult1  imp_op_var39_comer_ult1  \\\n",
            "0           1     2     23                 0.0                      0.0   \n",
            "1           3     2     34                 0.0                      0.0   \n",
            "2           4     2     23                 0.0                      0.0   \n",
            "3           8     2     37                 0.0                    195.0   \n",
            "4          10     2     39                 0.0                      0.0   \n",
            "...       ...   ...    ...                 ...                      ...   \n",
            "76015  151829     2     48                 0.0                      0.0   \n",
            "76016  151830     2     39                 0.0                      0.0   \n",
            "76017  151835     2     23                 0.0                      0.0   \n",
            "76018  151836     2     25                 0.0                      0.0   \n",
            "76019  151838     2     46                 0.0                      0.0   \n",
            "\n",
            "       imp_op_var39_comer_ult3  imp_op_var40_comer_ult1  \\\n",
            "0                          0.0                      0.0   \n",
            "1                          0.0                      0.0   \n",
            "2                          0.0                      0.0   \n",
            "3                        195.0                      0.0   \n",
            "4                          0.0                      0.0   \n",
            "...                        ...                      ...   \n",
            "76015                      0.0                      0.0   \n",
            "76016                      0.0                      0.0   \n",
            "76017                      0.0                      0.0   \n",
            "76018                      0.0                      0.0   \n",
            "76019                      0.0                      0.0   \n",
            "\n",
            "       imp_op_var40_comer_ult3  imp_op_var40_efect_ult1  \\\n",
            "0                          0.0                      0.0   \n",
            "1                          0.0                      0.0   \n",
            "2                          0.0                      0.0   \n",
            "3                          0.0                      0.0   \n",
            "4                          0.0                      0.0   \n",
            "...                        ...                      ...   \n",
            "76015                      0.0                      0.0   \n",
            "76016                      0.0                      0.0   \n",
            "76017                      0.0                      0.0   \n",
            "76018                      0.0                      0.0   \n",
            "76019                      0.0                      0.0   \n",
            "\n",
            "       imp_op_var40_efect_ult3  ...  saldo_medio_var33_hace2  \\\n",
            "0                          0.0  ...                      0.0   \n",
            "1                          0.0  ...                      0.0   \n",
            "2                          0.0  ...                      0.0   \n",
            "3                          0.0  ...                      0.0   \n",
            "4                          0.0  ...                      0.0   \n",
            "...                        ...  ...                      ...   \n",
            "76015                      0.0  ...                      0.0   \n",
            "76016                      0.0  ...                      0.0   \n",
            "76017                      0.0  ...                      0.0   \n",
            "76018                      0.0  ...                      0.0   \n",
            "76019                      0.0  ...                      0.0   \n",
            "\n",
            "       saldo_medio_var33_hace3  saldo_medio_var33_ult1  \\\n",
            "0                          0.0                     0.0   \n",
            "1                          0.0                     0.0   \n",
            "2                          0.0                     0.0   \n",
            "3                          0.0                     0.0   \n",
            "4                          0.0                     0.0   \n",
            "...                        ...                     ...   \n",
            "76015                      0.0                     0.0   \n",
            "76016                      0.0                     0.0   \n",
            "76017                      0.0                     0.0   \n",
            "76018                      0.0                     0.0   \n",
            "76019                      0.0                     0.0   \n",
            "\n",
            "       saldo_medio_var33_ult3  saldo_medio_var44_hace2  \\\n",
            "0                         0.0                      0.0   \n",
            "1                         0.0                      0.0   \n",
            "2                         0.0                      0.0   \n",
            "3                         0.0                      0.0   \n",
            "4                         0.0                      0.0   \n",
            "...                       ...                      ...   \n",
            "76015                     0.0                      0.0   \n",
            "76016                     0.0                      0.0   \n",
            "76017                     0.0                      0.0   \n",
            "76018                     0.0                      0.0   \n",
            "76019                     0.0                      0.0   \n",
            "\n",
            "       saldo_medio_var44_hace3  saldo_medio_var44_ult1  \\\n",
            "0                          0.0                     0.0   \n",
            "1                          0.0                     0.0   \n",
            "2                          0.0                     0.0   \n",
            "3                          0.0                     0.0   \n",
            "4                          0.0                     0.0   \n",
            "...                        ...                     ...   \n",
            "76015                      0.0                     0.0   \n",
            "76016                      0.0                     0.0   \n",
            "76017                      0.0                     0.0   \n",
            "76018                      0.0                     0.0   \n",
            "76019                      0.0                     0.0   \n",
            "\n",
            "       saldo_medio_var44_ult3          var38  TARGET  \n",
            "0                         0.0   39205.170000       0  \n",
            "1                         0.0   49278.030000       0  \n",
            "2                         0.0   67333.770000       0  \n",
            "3                         0.0   64007.970000       0  \n",
            "4                         0.0  117310.979016       0  \n",
            "...                       ...            ...     ...  \n",
            "76015                     0.0   60926.490000       0  \n",
            "76016                     0.0  118634.520000       0  \n",
            "76017                     0.0   74028.150000       0  \n",
            "76018                     0.0   84278.160000       0  \n",
            "76019                     0.0  117310.979016       0  \n",
            "\n",
            "[76020 rows x 371 columns]\n",
            "\n",
            "All the unique values for all columns that contain discrete values:\n",
            "\n"
          ]
        }
      ],
      "source": [
        "# Note: The below dataset is the \"Santander Customer Satisfaction\" dataset\n",
        "# from Kaggle\n",
        "X = read_csv_and_analyze_dataset('train.csv')\n",
        "\n",
        "y = X.pop('TARGET')"
      ]
    },
    {
      "cell_type": "code",
      "source": [
        "X_train, X_test, y_train, y_test = train_test_split(X, y, test_size=0.2)\n",
        "\n",
        "feature_selection = VarianceThreshold()\n",
        "\n",
        "feature_selection.fit(X_train)\n",
        "\n",
        "feature_selection.get_support()"
      ],
      "metadata": {
        "colab": {
          "base_uri": "https://localhost:8080/"
        },
        "id": "-0fvK_N2fX4m",
        "outputId": "c71c78e4-cd73-4756-e970-62bc9b4d81c9"
      },
      "execution_count": null,
      "outputs": [
        {
          "output_type": "execute_result",
          "data": {
            "text/plain": [
              "array([ True,  True,  True,  True,  True,  True,  True,  True,  True,\n",
              "        True,  True,  True,  True,  True,  True,  True,  True,  True,\n",
              "        True,  True,  True,  True, False, False,  True,  True,  True,\n",
              "        True,  True,  True,  True,  True,  True,  True,  True,  True,\n",
              "        True,  True,  True,  True,  True,  True,  True,  True,  True,\n",
              "        True,  True,  True,  True,  True,  True,  True,  True,  True,\n",
              "        True,  True,  True, False, False, False, False,  True,  True,\n",
              "        True,  True,  True,  True,  True,  True,  True,  True,  True,\n",
              "        True,  True,  True,  True,  True,  True,  True,  True,  True,\n",
              "       False,  True,  True,  True, False, False,  True,  True,  True,\n",
              "        True,  True,  True,  True,  True,  True,  True,  True,  True,\n",
              "        True,  True,  True,  True,  True,  True,  True,  True,  True,\n",
              "        True,  True,  True,  True,  True,  True,  True,  True,  True,\n",
              "        True,  True,  True,  True,  True,  True,  True,  True,  True,\n",
              "        True,  True,  True,  True,  True,  True, False, False, False,\n",
              "       False,  True,  True,  True,  True,  True,  True,  True,  True,\n",
              "        True,  True,  True,  True,  True,  True,  True,  True,  True,\n",
              "        True,  True,  True, False,  True,  True,  True,  True,  True,\n",
              "       False, False,  True,  True,  True,  True,  True,  True,  True,\n",
              "        True,  True,  True,  True,  True,  True,  True,  True,  True,\n",
              "       False, False,  True,  True,  True,  True,  True,  True,  True,\n",
              "        True, False,  True,  True, False,  True,  True,  True,  True,\n",
              "        True,  True,  True,  True,  True,  True,  True,  True,  True,\n",
              "        True,  True,  True,  True,  True,  True,  True,  True,  True,\n",
              "        True,  True,  True,  True,  True, False,  True, False,  True,\n",
              "        True,  True,  True,  True,  True,  True,  True,  True,  True,\n",
              "        True, False,  True,  True,  True, False,  True,  True,  True,\n",
              "        True,  True, False,  True,  True,  True, False,  True,  True,\n",
              "        True,  True,  True,  True,  True,  True,  True,  True,  True,\n",
              "        True, False, False,  True,  True,  True,  True,  True,  True,\n",
              "        True,  True,  True,  True,  True,  True,  True,  True,  True,\n",
              "        True,  True,  True,  True,  True,  True,  True,  True,  True,\n",
              "        True,  True,  True,  True,  True,  True,  True,  True,  True,\n",
              "        True,  True,  True,  True,  True,  True,  True, False,  True,\n",
              "        True,  True, False,  True,  True,  True,  True,  True,  True,\n",
              "        True, False,  True,  True,  True, False,  True,  True,  True,\n",
              "        True,  True,  True,  True, False,  True,  True,  True,  True,\n",
              "        True,  True,  True,  True,  True,  True,  True,  True,  True,\n",
              "        True,  True,  True,  True,  True,  True,  True,  True, False,\n",
              "        True,  True,  True,  True,  True,  True,  True,  True,  True,\n",
              "        True,  True,  True,  True,  True,  True,  True,  True,  True,\n",
              "        True])"
            ]
          },
          "metadata": {},
          "execution_count": 4
        }
      ]
    },
    {
      "cell_type": "code",
      "source": [
        "feature_importance = mutual_info_classif(X_train, y_train)\n",
        "\n",
        "feature_importance"
      ],
      "metadata": {
        "colab": {
          "base_uri": "https://localhost:8080/"
        },
        "id": "E9ePICLkgv3G",
        "outputId": "b973e391-de67-40b1-9780-7de62fa68f65"
      },
      "execution_count": null,
      "outputs": [
        {
          "output_type": "execute_result",
          "data": {
            "text/plain": [
              "array([7.65932808e-04, 1.38884367e-04, 1.24364455e-02, 0.00000000e+00,\n",
              "       0.00000000e+00, 5.23994249e-05, 8.10997084e-04, 6.90339175e-04,\n",
              "       4.92467399e-04, 7.56318234e-04, 0.00000000e+00, 0.00000000e+00,\n",
              "       0.00000000e+00, 2.42100516e-04, 0.00000000e+00, 2.27605183e-04,\n",
              "       1.36331266e-03, 0.00000000e+00, 3.35908417e-04, 0.00000000e+00,\n",
              "       7.29939179e-04, 0.00000000e+00, 0.00000000e+00, 0.00000000e+00,\n",
              "       1.53435457e-02, 1.97413064e-02, 0.00000000e+00, 3.71676720e-04,\n",
              "       1.31807477e-03, 9.83198696e-04, 4.92127075e-04, 1.43254176e-03,\n",
              "       0.00000000e+00, 3.06589158e-03, 1.05610679e-03, 1.18760080e-04,\n",
              "       5.73011529e-04, 0.00000000e+00, 8.50647686e-04, 1.22617101e-03,\n",
              "       6.71222565e-05, 1.72536779e-03, 0.00000000e+00, 1.03098900e-03,\n",
              "       5.21671768e-04, 0.00000000e+00, 0.00000000e+00, 0.00000000e+00,\n",
              "       0.00000000e+00, 1.75442221e-03, 1.90644996e-04, 8.42026763e-04,\n",
              "       1.40134721e-03, 5.40769890e-04, 0.00000000e+00, 3.14730178e-04,\n",
              "       8.04410708e-05, 0.00000000e+00, 0.00000000e+00, 8.99470867e-04,\n",
              "       7.77972140e-04, 1.05092258e-03, 0.00000000e+00, 9.76255345e-03,\n",
              "       2.10825479e-02, 0.00000000e+00, 0.00000000e+00, 5.06668437e-04,\n",
              "       1.78475205e-04, 0.00000000e+00, 1.41751034e-04, 0.00000000e+00,\n",
              "       1.43874480e-03, 1.47201134e-03, 0.00000000e+00, 2.74924812e-04,\n",
              "       0.00000000e+00, 1.05023745e-02, 1.03820448e-04, 9.87519018e-04,\n",
              "       1.00488143e-02, 0.00000000e+00, 5.02145047e-04, 0.00000000e+00,\n",
              "       0.00000000e+00, 0.00000000e+00, 1.12007190e-03, 0.00000000e+00,\n",
              "       1.36955697e-03, 1.54842534e-02, 1.37546648e-02, 2.03656455e-02,\n",
              "       0.00000000e+00, 0.00000000e+00, 1.40537368e-03, 1.64115793e-04,\n",
              "       4.70204463e-04, 1.15242368e-03, 1.83070478e-03, 0.00000000e+00,\n",
              "       0.00000000e+00, 1.61788184e-03, 0.00000000e+00, 0.00000000e+00,\n",
              "       8.00271354e-04, 9.96532856e-04, 0.00000000e+00, 6.62603199e-04,\n",
              "       8.27799210e-04, 0.00000000e+00, 7.10916955e-04, 0.00000000e+00,\n",
              "       0.00000000e+00, 0.00000000e+00, 7.17892379e-04, 1.24805682e-03,\n",
              "       0.00000000e+00, 0.00000000e+00, 0.00000000e+00, 0.00000000e+00,\n",
              "       1.12379125e-04, 6.10102174e-04, 0.00000000e+00, 0.00000000e+00,\n",
              "       6.10926135e-04, 1.04295438e-05, 4.24423172e-04, 7.75869624e-04,\n",
              "       0.00000000e+00, 1.23674437e-03, 1.04604131e-03, 0.00000000e+00,\n",
              "       1.74061218e-05, 1.67985231e-04, 0.00000000e+00, 3.38277215e-04,\n",
              "       2.72404748e-04, 2.99839084e-04, 1.17317326e-02, 1.58960436e-02,\n",
              "       0.00000000e+00, 0.00000000e+00, 0.00000000e+00, 3.29000522e-04,\n",
              "       0.00000000e+00, 1.19717206e-03, 5.86482694e-04, 0.00000000e+00,\n",
              "       1.62155355e-02, 0.00000000e+00, 0.00000000e+00, 5.29545730e-04,\n",
              "       1.21610764e-02, 0.00000000e+00, 1.32428832e-03, 1.04659443e-02,\n",
              "       0.00000000e+00, 6.82989723e-04, 1.03786774e-02, 2.19453856e-02,\n",
              "       4.72935537e-04, 0.00000000e+00, 0.00000000e+00, 6.95933699e-04,\n",
              "       1.08109507e-03, 1.20093129e-02, 0.00000000e+00, 9.12375161e-04,\n",
              "       7.73500205e-04, 4.96791015e-04, 0.00000000e+00, 0.00000000e+00,\n",
              "       1.87559945e-03, 1.22986935e-03, 0.00000000e+00, 0.00000000e+00,\n",
              "       0.00000000e+00, 0.00000000e+00, 3.61871076e-04, 4.59561442e-04,\n",
              "       1.34340167e-04, 6.11435753e-04, 8.63744267e-05, 1.34195360e-02,\n",
              "       0.00000000e+00, 0.00000000e+00, 0.00000000e+00, 6.81881717e-04,\n",
              "       3.89941731e-04, 0.00000000e+00, 0.00000000e+00, 1.28611159e-02,\n",
              "       1.17090227e-04, 7.46909026e-04, 1.21472169e-02, 0.00000000e+00,\n",
              "       0.00000000e+00, 3.99120705e-04, 7.72483822e-05, 8.55554358e-04,\n",
              "       2.25600513e-04, 0.00000000e+00, 0.00000000e+00, 2.89551378e-05,\n",
              "       0.00000000e+00, 0.00000000e+00, 2.81168113e-04, 0.00000000e+00,\n",
              "       4.98984822e-04, 9.05919825e-04, 6.04858819e-04, 0.00000000e+00,\n",
              "       6.41814260e-04, 6.97862666e-04, 4.12665656e-04, 4.03844551e-04,\n",
              "       0.00000000e+00, 1.05298979e-03, 4.00460393e-04, 0.00000000e+00,\n",
              "       7.91382324e-04, 0.00000000e+00, 8.11477288e-04, 0.00000000e+00,\n",
              "       8.91948206e-04, 1.38412894e-03, 1.75626074e-04, 0.00000000e+00,\n",
              "       0.00000000e+00, 0.00000000e+00, 0.00000000e+00, 3.22353950e-06,\n",
              "       0.00000000e+00, 6.16362945e-04, 0.00000000e+00, 1.53785841e-04,\n",
              "       9.04749011e-05, 0.00000000e+00, 1.22531547e-03, 2.23103213e-04,\n",
              "       0.00000000e+00, 1.10647059e-03, 1.00095083e-03, 3.85593796e-04,\n",
              "       1.08954210e-03, 9.55049397e-06, 2.83878507e-04, 1.07948563e-04,\n",
              "       1.04334704e-03, 0.00000000e+00, 0.00000000e+00, 0.00000000e+00,\n",
              "       0.00000000e+00, 0.00000000e+00, 2.65201669e-04, 4.29867783e-05,\n",
              "       9.18381569e-04, 9.54184608e-04, 1.49938568e-03, 0.00000000e+00,\n",
              "       1.22272152e-03, 9.47716439e-04, 0.00000000e+00, 8.26962494e-04,\n",
              "       4.47650666e-04, 1.00504164e-03, 0.00000000e+00, 4.52775390e-04,\n",
              "       1.82954375e-04, 0.00000000e+00, 0.00000000e+00, 0.00000000e+00,\n",
              "       0.00000000e+00, 0.00000000e+00, 0.00000000e+00, 1.07199650e-03,\n",
              "       0.00000000e+00, 9.26316940e-04, 0.00000000e+00, 7.05392713e-04,\n",
              "       1.19086251e-03, 1.73194742e-02, 0.00000000e+00, 1.40619866e-03,\n",
              "       1.77455868e-03, 1.47489171e-03, 0.00000000e+00, 1.00337540e-03,\n",
              "       0.00000000e+00, 0.00000000e+00, 9.11314458e-03, 3.77467490e-04,\n",
              "       0.00000000e+00, 0.00000000e+00, 1.17195356e-03, 0.00000000e+00,\n",
              "       1.01969422e-03, 4.87054294e-04, 9.61999957e-05, 0.00000000e+00,\n",
              "       6.36420772e-04, 0.00000000e+00, 2.47071785e-04, 5.95232131e-04,\n",
              "       4.91548104e-04, 2.55169053e-04, 5.66208494e-04, 0.00000000e+00,\n",
              "       0.00000000e+00, 0.00000000e+00, 0.00000000e+00, 9.58643352e-04,\n",
              "       1.07101623e-03, 0.00000000e+00, 4.92768693e-04, 0.00000000e+00,\n",
              "       4.01626838e-04, 1.36599671e-04, 0.00000000e+00, 1.68557328e-04,\n",
              "       0.00000000e+00, 0.00000000e+00, 2.12963986e-04, 0.00000000e+00,\n",
              "       7.83593034e-04, 0.00000000e+00, 7.53516434e-04, 2.54451011e-04,\n",
              "       4.23347245e-04, 1.17958252e-02, 9.18602195e-03, 1.17625483e-02,\n",
              "       1.02166289e-02, 1.88242125e-03, 0.00000000e+00, 1.66534164e-03,\n",
              "       5.50400099e-04, 0.00000000e+00, 4.25107589e-04, 2.51054511e-03,\n",
              "       2.09707938e-04, 1.11135505e-03, 1.04049806e-03, 0.00000000e+00,\n",
              "       5.37556804e-04, 3.70513839e-04, 0.00000000e+00, 6.17629758e-04,\n",
              "       0.00000000e+00, 0.00000000e+00, 2.09283640e-04, 1.27605143e-03,\n",
              "       0.00000000e+00, 3.98016348e-04, 0.00000000e+00, 1.31208062e-03,\n",
              "       3.07457777e-06, 3.17061280e-04, 0.00000000e+00, 5.35546488e-04,\n",
              "       0.00000000e+00, 6.95924663e-04, 0.00000000e+00, 1.33919235e-03,\n",
              "       2.78619000e-04, 4.91594856e-05, 0.00000000e+00, 4.96529710e-04,\n",
              "       1.00344913e-03, 2.83549535e-03])"
            ]
          },
          "metadata": {},
          "execution_count": 5
        }
      ]
    },
    {
      "cell_type": "code",
      "source": [
        "decision_tree = DecisionTreeClassifier()\n",
        "\n",
        "decision_tree.fit(X_train, y_train)\n",
        "\n",
        "y_predict = decision_tree.predict(X_test)\n",
        "\n",
        "accuracy_score(y_test, y_predict)"
      ],
      "metadata": {
        "id": "EODdZcYbhdTw",
        "colab": {
          "base_uri": "https://localhost:8080/"
        },
        "outputId": "41355f45-30e7-4971-a83f-00a0743fdf6b"
      },
      "execution_count": null,
      "outputs": [
        {
          "output_type": "execute_result",
          "data": {
            "text/plain": [
              "0.9287687450670876"
            ]
          },
          "metadata": {},
          "execution_count": 6
        }
      ]
    },
    {
      "cell_type": "code",
      "source": [
        "forward_feature_selection = SequentialFeatureSelector(\n",
        "    decision_tree,\n",
        "    cv=5,\n",
        "    n_features_to_select=3\n",
        ")\n",
        "\n",
        "X_train = forward_feature_selection.fit_transform(X_train, y_train)\n",
        "\n",
        "features = forward_feature_selection.support_\n",
        "\n",
        "features"
      ],
      "metadata": {
        "id": "pYvl3GE6k32A",
        "colab": {
          "base_uri": "https://localhost:8080/"
        },
        "outputId": "8fe722c4-55f5-4f22-edf7-ed2e1b6dd303"
      },
      "execution_count": null,
      "outputs": [
        {
          "output_type": "execute_result",
          "data": {
            "text/plain": [
              "array([False, False,  True, False, False, False, False, False, False,\n",
              "       False, False, False, False, False, False, False, False, False,\n",
              "       False, False,  True, False,  True, False, False, False, False,\n",
              "       False, False, False, False, False, False, False, False, False,\n",
              "       False, False, False, False, False, False, False, False, False,\n",
              "       False, False, False, False, False, False, False, False, False,\n",
              "       False, False, False, False, False, False, False, False, False,\n",
              "       False, False, False, False, False, False, False, False, False,\n",
              "       False, False, False, False, False, False, False, False, False,\n",
              "       False, False, False, False, False, False, False, False, False,\n",
              "       False, False, False, False, False, False, False, False, False,\n",
              "       False, False, False, False, False, False, False, False, False,\n",
              "       False, False, False, False, False, False, False, False, False,\n",
              "       False, False, False, False, False, False, False, False, False,\n",
              "       False, False, False, False, False, False, False, False, False,\n",
              "       False, False, False, False, False, False, False, False, False,\n",
              "       False, False, False, False, False, False, False, False, False,\n",
              "       False, False, False, False, False, False, False, False, False,\n",
              "       False, False, False, False, False, False, False, False, False,\n",
              "       False, False, False, False, False, False, False, False, False,\n",
              "       False, False, False, False, False, False, False, False, False,\n",
              "       False, False, False, False, False, False, False, False, False,\n",
              "       False, False, False, False, False, False, False, False, False,\n",
              "       False, False, False, False, False, False, False, False, False,\n",
              "       False, False, False, False, False, False, False, False, False,\n",
              "       False, False, False, False, False, False, False, False, False,\n",
              "       False, False, False, False, False, False, False, False, False,\n",
              "       False, False, False, False, False, False, False, False, False,\n",
              "       False, False, False, False, False, False, False, False, False,\n",
              "       False, False, False, False, False, False, False, False, False,\n",
              "       False, False, False, False, False, False, False, False, False,\n",
              "       False, False, False, False, False, False, False, False, False,\n",
              "       False, False, False, False, False, False, False, False, False,\n",
              "       False, False, False, False, False, False, False, False, False,\n",
              "       False, False, False, False, False, False, False, False, False,\n",
              "       False, False, False, False, False, False, False, False, False,\n",
              "       False, False, False, False, False, False, False, False, False,\n",
              "       False, False, False, False, False, False, False, False, False,\n",
              "       False, False, False, False, False, False, False, False, False,\n",
              "       False, False, False, False, False, False, False, False, False,\n",
              "       False, False, False, False, False, False, False, False, False,\n",
              "       False])"
            ]
          },
          "metadata": {},
          "execution_count": 7
        }
      ]
    },
    {
      "cell_type": "code",
      "source": [
        "X_test = forward_feature_selection.transform(X_test)\n",
        "\n",
        "decision_tree.fit(X_train, y_train)\n",
        "\n",
        "y_predict = decision_tree.predict(X_test)\n",
        "\n",
        "accuracy_score(y_test, y_predict)"
      ],
      "metadata": {
        "id": "7-tW7dS2ovg6",
        "colab": {
          "base_uri": "https://localhost:8080/"
        },
        "outputId": "7f296b2c-2221-40d7-e99e-ad16c17f78fe"
      },
      "execution_count": null,
      "outputs": [
        {
          "output_type": "execute_result",
          "data": {
            "text/plain": [
              "0.9604709287029729"
            ]
          },
          "metadata": {},
          "execution_count": 8
        }
      ]
    },
    {
      "cell_type": "markdown",
      "source": [
        "### For the chosen model, apply a grid search or LHS for the parameter tuning"
      ],
      "metadata": {
        "id": "0o10Uy4Ercfo"
      }
    },
    {
      "cell_type": "code",
      "source": [
        "tree_params = {\n",
        "    'criterion': ['gini', 'entropy'],\n",
        "    'max_depth': [5, 10, 50, 150]\n",
        "}\n",
        "\n",
        "clf = GridSearchCV(DecisionTreeClassifier(), tree_params, cv=5)\n",
        "\n",
        "clf.fit(X_train, y_train)\n",
        "\n",
        "clf.cv_results_"
      ],
      "metadata": {
        "id": "RzpF3YQhq26P",
        "colab": {
          "base_uri": "https://localhost:8080/"
        },
        "outputId": "3ef869ca-08be-43b1-e987-6d57ece9ba50"
      },
      "execution_count": null,
      "outputs": [
        {
          "output_type": "execute_result",
          "data": {
            "text/plain": [
              "{'mean_fit_time': array([0.02195859, 0.02482691, 0.0184979 , 0.01529317, 0.01236629,\n",
              "        0.01490951, 0.01567621, 0.01709371]),\n",
              " 'std_fit_time': array([0.00305442, 0.0011223 , 0.00485811, 0.00137542, 0.00068196,\n",
              "        0.00034276, 0.00141082, 0.00235884]),\n",
              " 'mean_score_time': array([0.00370255, 0.0040195 , 0.00313764, 0.00283575, 0.00235448,\n",
              "        0.00262089, 0.00269313, 0.00305605]),\n",
              " 'std_score_time': array([6.94741430e-05, 1.41124063e-04, 6.54499662e-04, 3.84582988e-04,\n",
              "        6.56105404e-05, 2.91165218e-05, 7.44783007e-05, 6.93634791e-04]),\n",
              " 'param_criterion': masked_array(data=['gini', 'gini', 'gini', 'gini', 'entropy', 'entropy',\n",
              "                    'entropy', 'entropy'],\n",
              "              mask=[False, False, False, False, False, False, False, False],\n",
              "        fill_value='?',\n",
              "             dtype=object),\n",
              " 'param_max_depth': masked_array(data=[5, 10, 50, 150, 5, 10, 50, 150],\n",
              "              mask=[False, False, False, False, False, False, False, False],\n",
              "        fill_value='?',\n",
              "             dtype=object),\n",
              " 'params': [{'criterion': 'gini', 'max_depth': 5},\n",
              "  {'criterion': 'gini', 'max_depth': 10},\n",
              "  {'criterion': 'gini', 'max_depth': 50},\n",
              "  {'criterion': 'gini', 'max_depth': 150},\n",
              "  {'criterion': 'entropy', 'max_depth': 5},\n",
              "  {'criterion': 'entropy', 'max_depth': 10},\n",
              "  {'criterion': 'entropy', 'max_depth': 50},\n",
              "  {'criterion': 'entropy', 'max_depth': 150}],\n",
              " 'split0_test_score': array([0.96037488, 0.96037488, 0.96037488, 0.96037488, 0.96037488,\n",
              "        0.96037488, 0.96037488, 0.96037488]),\n",
              " 'split1_test_score': array([0.96045384, 0.96045384, 0.96045384, 0.96045384, 0.96045384,\n",
              "        0.96045384, 0.96045384, 0.96045384]),\n",
              " 'split2_test_score': array([0.96045384, 0.96045384, 0.96045384, 0.96045384, 0.96045384,\n",
              "        0.96045384, 0.96045384, 0.96045384]),\n",
              " 'split3_test_score': array([0.96045384, 0.96045384, 0.96045384, 0.96045384, 0.96045384,\n",
              "        0.96045384, 0.96045384, 0.96045384]),\n",
              " 'split4_test_score': array([0.96037162, 0.96037162, 0.96037162, 0.96037162, 0.96037162,\n",
              "        0.96037162, 0.96037162, 0.96037162]),\n",
              " 'mean_test_score': array([0.9604216, 0.9604216, 0.9604216, 0.9604216, 0.9604216, 0.9604216,\n",
              "        0.9604216, 0.9604216]),\n",
              " 'std_test_score': array([3.94931579e-05, 3.94931579e-05, 3.94931579e-05, 3.94931579e-05,\n",
              "        3.94931579e-05, 3.94931579e-05, 3.94931579e-05, 3.94931579e-05]),\n",
              " 'rank_test_score': array([1, 1, 1, 1, 1, 1, 1, 1], dtype=int32)}"
            ]
          },
          "metadata": {},
          "execution_count": 9
        }
      ]
    },
    {
      "cell_type": "markdown",
      "source": [
        "## Study the method Recursive Feature Elimination and implement it on the Iris data set in R or Python"
      ],
      "metadata": {
        "id": "KvWYlClZs1sh"
      }
    },
    {
      "cell_type": "code",
      "source": [
        "def transform_ordinal_columns(dataframe, column_names):\n",
        "  dataframe[column_names] = OrdinalEncoder().fit_transform(\n",
        "      dataframe[column_names]\n",
        "  )\n",
        "\n",
        "  return dataframe"
      ],
      "metadata": {
        "id": "SjZXw9setSm-"
      },
      "execution_count": null,
      "outputs": []
    },
    {
      "cell_type": "code",
      "source": [
        "iris_X = read_csv_and_analyze_dataset('iris.csv')\n",
        "\n",
        "# This column is not actually ordinal, but we will need to apply an 'ordinal'\n",
        "# transformation to it in order to use it as 'y' in a multiclass classification\n",
        "# problem\n",
        "iris_X = transform_ordinal_columns(iris_X, ['variety'])\n",
        "\n",
        "iris_y = iris_X.pop('variety')"
      ],
      "metadata": {
        "colab": {
          "base_uri": "https://localhost:8080/"
        },
        "id": "JGiR-FW4seT8",
        "outputId": "753d19e4-26ac-4417-db58-6fc96778931d"
      },
      "execution_count": null,
      "outputs": [
        {
          "output_type": "stream",
          "name": "stdout",
          "text": [
            "The dataset:\n",
            "     sepal.length  sepal.width  petal.length  petal.width    variety\n",
            "0             5.1          3.5           1.4          0.2     Setosa\n",
            "1             4.9          3.0           1.4          0.2     Setosa\n",
            "2             4.7          3.2           1.3          0.2     Setosa\n",
            "3             4.6          3.1           1.5          0.2     Setosa\n",
            "4             5.0          3.6           1.4          0.2     Setosa\n",
            "..            ...          ...           ...          ...        ...\n",
            "145           6.7          3.0           5.2          2.3  Virginica\n",
            "146           6.3          2.5           5.0          1.9  Virginica\n",
            "147           6.5          3.0           5.2          2.0  Virginica\n",
            "148           6.2          3.4           5.4          2.3  Virginica\n",
            "149           5.9          3.0           5.1          1.8  Virginica\n",
            "\n",
            "[150 rows x 5 columns]\n",
            "\n",
            "All the unique values for all columns that contain discrete values:\n",
            "\n",
            "variety:\n",
            "Setosa (50)\n",
            "Versicolor (50)\n",
            "Virginica (50)\n",
            "\n"
          ]
        }
      ]
    },
    {
      "cell_type": "code",
      "source": [
        "X_train, X_test, y_train, y_test = train_test_split(\n",
        "    iris_X,\n",
        "    iris_y,\n",
        "    test_size=0.2\n",
        ")\n",
        "\n",
        "decision_tree = DecisionTreeClassifier()\n",
        "\n",
        "rfe = RFE(decision_tree, n_features_to_select=3)\n",
        "\n",
        "X_rfe = rfe.fit_transform(X_train, y_train)\n",
        "\n",
        "print(\"Selected features:\", rfe.support_)\n",
        "print(\"Ranking of features:\", rfe.ranking_)\n",
        "\n",
        "decision_tree = rfe.estimator_"
      ],
      "metadata": {
        "colab": {
          "base_uri": "https://localhost:8080/"
        },
        "id": "L3-xy5ayuHt7",
        "outputId": "5d4a3826-d688-4cbe-d950-7b16fe328169"
      },
      "execution_count": null,
      "outputs": [
        {
          "output_type": "stream",
          "name": "stdout",
          "text": [
            "Selected features: [ True False  True  True]\n",
            "Ranking of features: [1 2 1 1]\n"
          ]
        }
      ]
    },
    {
      "cell_type": "markdown",
      "source": [
        "## Study Lasso regularization and implement it on the Iris data set in R or Python"
      ],
      "metadata": {
        "id": "ukUQ3mjhs1L0"
      }
    },
    {
      "cell_type": "code",
      "source": [
        "logistic_regression = LogisticRegression(\n",
        "    penalty='l1',\n",
        "    solver='liblinear',\n",
        "    multi_class='auto'\n",
        ")\n",
        "\n",
        "logistic_regression.fit(X_train, y_train)\n",
        "\n",
        "y_predict = logistic_regression.predict(X_test)\n",
        "\n",
        "accuracy_score(y_test, y_predict)"
      ],
      "metadata": {
        "colab": {
          "base_uri": "https://localhost:8080/"
        },
        "id": "swjPvI30s8t7",
        "outputId": "5d11f67c-830d-40c0-d5aa-52d0c5a57bfb"
      },
      "execution_count": null,
      "outputs": [
        {
          "output_type": "execute_result",
          "data": {
            "text/plain": [
              "0.9333333333333333"
            ]
          },
          "metadata": {},
          "execution_count": 13
        }
      ]
    }
  ],
  "metadata": {
    "colab": {
      "provenance": []
    },
    "kernelspec": {
      "display_name": "Python 3",
      "name": "python3"
    },
    "language_info": {
      "name": "python"
    }
  },
  "nbformat": 4,
  "nbformat_minor": 0
}