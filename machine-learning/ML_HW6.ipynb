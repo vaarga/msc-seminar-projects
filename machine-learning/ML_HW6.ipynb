{
  "cells": [
    {
      "cell_type": "markdown",
      "metadata": {
        "id": "ylayqqmDGROj"
      },
      "source": [
        "# Machine Learning - Homework 6"
      ]
    },
    {
      "cell_type": "code",
      "source": [
        "!pip install scikit-posthocs"
      ],
      "metadata": {
        "colab": {
          "base_uri": "https://localhost:8080/"
        },
        "id": "TUQFr650_tHh",
        "outputId": "2d11540b-2699-4314-af81-9422d02dcdee"
      },
      "execution_count": null,
      "outputs": [
        {
          "output_type": "stream",
          "name": "stdout",
          "text": [
            "Collecting scikit-posthocs\n",
            "  Downloading scikit_posthocs-0.8.0-py3-none-any.whl (32 kB)\n",
            "Requirement already satisfied: numpy in /usr/local/lib/python3.10/dist-packages (from scikit-posthocs) (1.23.5)\n",
            "Requirement already satisfied: scipy in /usr/local/lib/python3.10/dist-packages (from scikit-posthocs) (1.11.3)\n",
            "Requirement already satisfied: statsmodels in /usr/local/lib/python3.10/dist-packages (from scikit-posthocs) (0.14.0)\n",
            "Requirement already satisfied: pandas>=0.20.0 in /usr/local/lib/python3.10/dist-packages (from scikit-posthocs) (1.5.3)\n",
            "Requirement already satisfied: seaborn in /usr/local/lib/python3.10/dist-packages (from scikit-posthocs) (0.12.2)\n",
            "Requirement already satisfied: matplotlib in /usr/local/lib/python3.10/dist-packages (from scikit-posthocs) (3.7.1)\n",
            "Requirement already satisfied: python-dateutil>=2.8.1 in /usr/local/lib/python3.10/dist-packages (from pandas>=0.20.0->scikit-posthocs) (2.8.2)\n",
            "Requirement already satisfied: pytz>=2020.1 in /usr/local/lib/python3.10/dist-packages (from pandas>=0.20.0->scikit-posthocs) (2023.3.post1)\n",
            "Requirement already satisfied: contourpy>=1.0.1 in /usr/local/lib/python3.10/dist-packages (from matplotlib->scikit-posthocs) (1.2.0)\n",
            "Requirement already satisfied: cycler>=0.10 in /usr/local/lib/python3.10/dist-packages (from matplotlib->scikit-posthocs) (0.12.1)\n",
            "Requirement already satisfied: fonttools>=4.22.0 in /usr/local/lib/python3.10/dist-packages (from matplotlib->scikit-posthocs) (4.44.0)\n",
            "Requirement already satisfied: kiwisolver>=1.0.1 in /usr/local/lib/python3.10/dist-packages (from matplotlib->scikit-posthocs) (1.4.5)\n",
            "Requirement already satisfied: packaging>=20.0 in /usr/local/lib/python3.10/dist-packages (from matplotlib->scikit-posthocs) (23.2)\n",
            "Requirement already satisfied: pillow>=6.2.0 in /usr/local/lib/python3.10/dist-packages (from matplotlib->scikit-posthocs) (9.4.0)\n",
            "Requirement already satisfied: pyparsing>=2.3.1 in /usr/local/lib/python3.10/dist-packages (from matplotlib->scikit-posthocs) (3.1.1)\n",
            "Requirement already satisfied: patsy>=0.5.2 in /usr/local/lib/python3.10/dist-packages (from statsmodels->scikit-posthocs) (0.5.3)\n",
            "Requirement already satisfied: six in /usr/local/lib/python3.10/dist-packages (from patsy>=0.5.2->statsmodels->scikit-posthocs) (1.16.0)\n",
            "Installing collected packages: scikit-posthocs\n",
            "Successfully installed scikit-posthocs-0.8.0\n"
          ]
        }
      ]
    },
    {
      "cell_type": "code",
      "execution_count": null,
      "metadata": {
        "id": "H4K5J2-lGr3p"
      },
      "outputs": [],
      "source": [
        "import numpy as np\n",
        "import pandas as pd\n",
        "from sklearn.model_selection import train_test_split, cross_val_score\n",
        "from sklearn.tree import DecisionTreeClassifier, DecisionTreeRegressor\n",
        "from sklearn.svm import SVC\n",
        "from sklearn.ensemble import RandomForestClassifier\n",
        "from sklearn.metrics import (\n",
        "    accuracy_score,\n",
        "    f1_score,\n",
        "    confusion_matrix,\n",
        "    cohen_kappa_score,\n",
        "    roc_curve,\n",
        "    roc_auc_score,\n",
        "    mean_squared_error,\n",
        "    mean_absolute_error,\n",
        "    mean_absolute_percentage_error,\n",
        "    r2_score\n",
        ")\n",
        "import matplotlib.pyplot as plt\n",
        "from sklearn.preprocessing import OrdinalEncoder\n",
        "from scipy.stats import wilcoxon, friedmanchisquare, rankdata\n",
        "from scikit_posthocs import posthoc_nemenyi_friedman"
      ]
    },
    {
      "cell_type": "markdown",
      "metadata": {
        "id": "AnDr2B46GamA"
      },
      "source": [
        "## Build an R or Python program that trains a decision tree for the Wisconsin Breast Cancer"
      ]
    },
    {
      "cell_type": "code",
      "source": [
        "def read_csv_and_analyze_dataset(path_to_csv):\n",
        "  dataframe = pd.read_csv(path_to_csv)\n",
        "\n",
        "  print(\"The dataset:\")\n",
        "  print(dataframe, end='\\n\\n')\n",
        "\n",
        "  print(\"All the unique values for all columns that contain discrete values:\")\n",
        "\n",
        "  for column_name in dataframe:\n",
        "    if not pd.api.types.is_numeric_dtype(dataframe[column_name]):\n",
        "      print(f\"\\n{column_name}:\")\n",
        "\n",
        "      for unique_value in dataframe[column_name].unique():\n",
        "        print(f\"{unique_value} ({len(dataframe.loc[dataframe[column_name] == unique_value])})\")\n",
        "\n",
        "  print()\n",
        "\n",
        "  return dataframe"
      ],
      "metadata": {
        "id": "DBuSUBksxdiE"
      },
      "execution_count": null,
      "outputs": []
    },
    {
      "cell_type": "code",
      "execution_count": null,
      "metadata": {
        "colab": {
          "base_uri": "https://localhost:8080/"
        },
        "id": "XKBr9fLF6k29",
        "outputId": "e0905e88-719b-448d-82f6-db53c3a2d46c"
      },
      "outputs": [
        {
          "output_type": "stream",
          "name": "stdout",
          "text": [
            "The dataset:\n",
            "          Id   Clump Thickness   Uniformity of Cell Size  \\\n",
            "0    1000025                 5                         1   \n",
            "1    1002945                 5                         4   \n",
            "2    1015425                 3                         1   \n",
            "3    1016277                 6                         8   \n",
            "4    1017023                 4                         1   \n",
            "..       ...               ...                       ...   \n",
            "694   776715                 3                         1   \n",
            "695   841769                 2                         1   \n",
            "696   888820                 5                        10   \n",
            "697   897471                 4                         8   \n",
            "698   897471                 4                         8   \n",
            "\n",
            "      Uniformity of Cell Shape   Marginal Adhesion  \\\n",
            "0                            1                   1   \n",
            "1                            4                   5   \n",
            "2                            1                   1   \n",
            "3                            8                   1   \n",
            "4                            1                   3   \n",
            "..                         ...                 ...   \n",
            "694                          1                   1   \n",
            "695                          1                   1   \n",
            "696                         10                   3   \n",
            "697                          6                   4   \n",
            "698                          8                   5   \n",
            "\n",
            "      Single Epithelial Cell Size  Bare Nuclei   Bland Chromatin  \\\n",
            "0                               2            1                 3   \n",
            "1                               7           10                 3   \n",
            "2                               2            2                 3   \n",
            "3                               3            4                 3   \n",
            "4                               2            1                 3   \n",
            "..                            ...          ...               ...   \n",
            "694                             3            2                 1   \n",
            "695                             2            1                 1   \n",
            "696                             7            3                 8   \n",
            "697                             3            4                10   \n",
            "698                             4            5                10   \n",
            "\n",
            "      Normal Nucleoli   Mitoses   Class  \n",
            "0                   1         1       2  \n",
            "1                   2         1       2  \n",
            "2                   1         1       2  \n",
            "3                   7         1       2  \n",
            "4                   1         1       2  \n",
            "..                ...       ...     ...  \n",
            "694                 1         1       2  \n",
            "695                 1         1       2  \n",
            "696                10         2       4  \n",
            "697                 6         1       4  \n",
            "698                 4         1       4  \n",
            "\n",
            "[699 rows x 11 columns]\n",
            "\n",
            "All the unique values for all columns that contain discrete values:\n",
            "\n",
            " Bare Nuclei:\n",
            "1 (402)\n",
            "10 (132)\n",
            "2 (30)\n",
            "4 (19)\n",
            "3 (28)\n",
            "9 (9)\n",
            "7 (8)\n",
            "? (16)\n",
            "5 (30)\n",
            "8 (21)\n",
            "6 (4)\n",
            "\n"
          ]
        }
      ],
      "source": [
        "X = read_csv_and_analyze_dataset('breast-cancer-wisconsin.csv')\n",
        "X = X.replace('?', 0)\n",
        "\n",
        "y = X.pop(' Class')\n",
        "y = y.replace(2, 0).replace(4, 1)"
      ]
    },
    {
      "cell_type": "markdown",
      "metadata": {
        "id": "z052mQdI6q86"
      },
      "source": [
        "### Conduct cross-validation by random subsampling with 30 runs"
      ]
    },
    {
      "cell_type": "code",
      "execution_count": null,
      "metadata": {
        "id": "R6JmtozWuOoG",
        "colab": {
          "base_uri": "https://localhost:8080/"
        },
        "outputId": "c8be13da-7bd9-430d-aa78-1d2317badc65"
      },
      "outputs": [
        {
          "output_type": "stream",
          "name": "stdout",
          "text": [
            "Accuracies:  [0.9642857142857143, 0.9642857142857143, 0.95, 0.95, 0.9071428571428571, 0.9142857142857143, 0.9428571428571428, 0.95, 0.9357142857142857, 0.9071428571428571, 0.9285714285714286, 0.95, 0.9428571428571428, 0.9642857142857143, 0.9214285714285714, 0.9714285714285714, 0.9214285714285714, 0.9642857142857143, 0.9285714285714286, 0.9071428571428571, 0.9142857142857143, 0.95, 0.9214285714285714, 0.8928571428571429, 0.9428571428571428, 0.9285714285714286, 0.95, 0.9, 0.9285714285714286, 0.9785714285714285]\n",
            "F1 scores:  [0.9397590361445783, 0.9397590361445782, 0.9345794392523364, 0.9369369369369368, 0.8571428571428572, 0.8749999999999999, 0.9130434782608695, 0.9306930693069307, 0.8915662650602411, 0.8712871287128714, 0.9, 0.9213483146067417, 0.9130434782608695, 0.9523809523809523, 0.8817204301075269, 0.9636363636363636, 0.8865979381443299, 0.9473684210526316, 0.8863636363636365, 0.8602150537634409, 0.8867924528301887, 0.9320388349514563, 0.9059829059829059, 0.810126582278481, 0.9024390243902439, 0.878048780487805, 0.9292929292929293, 0.8333333333333334, 0.9090909090909091, 0.968421052631579]\n"
          ]
        }
      ],
      "source": [
        "repeats = 30\n",
        "decision_tree_accuracies = []\n",
        "svm_accuracies = []\n",
        "decision_tree_f1 = []\n",
        "\n",
        "for _ in range(0, repeats):\n",
        "  X_train, X_test, y_train, y_test = train_test_split(X, y, test_size=0.2)\n",
        "\n",
        "  decision_tree = DecisionTreeClassifier()\n",
        "  svm = SVC()\n",
        "\n",
        "  decision_tree.fit(X_train, y_train)\n",
        "  svm.fit(X_train, y_train)\n",
        "\n",
        "  y_predicted = decision_tree.predict(X_test)\n",
        "  y_predicted_svm = svm.predict(X_test)\n",
        "\n",
        "  decision_tree_accuracies.append(accuracy_score(y_test, y_predicted))\n",
        "  svm_accuracies.append(accuracy_score(y_test, y_predicted_svm))\n",
        "  decision_tree_f1.append(f1_score(y_test, y_predicted))\n",
        "\n",
        "\n",
        "print(\"Accuracies: \", decision_tree_accuracies)\n",
        "print(\"F1 scores: \", decision_tree_f1)"
      ]
    },
    {
      "cell_type": "markdown",
      "source": [
        "### Obtain mean accuracy, standard deviation, F1-score and the confusion matrix"
      ],
      "metadata": {
        "id": "DeORd1oZ66FO"
      }
    },
    {
      "cell_type": "code",
      "source": [
        "print(\"Accuracy: %.2f\" % np.mean(decision_tree_accuracies))\n",
        "print(\"Standard Deviation: %.2f\" % np.std(decision_tree_accuracies))\n",
        "print(\"F1 Score: %.2f\" % np.mean(decision_tree_f1))\n",
        "print(\"Confusion matrix: \")\n",
        "print(confusion_matrix(y_test, y_predicted))"
      ],
      "metadata": {
        "id": "XL1aRU5265nV",
        "colab": {
          "base_uri": "https://localhost:8080/"
        },
        "outputId": "fba0ea84-a9a5-4e45-b928-16e20f0e255b"
      },
      "execution_count": null,
      "outputs": [
        {
          "output_type": "stream",
          "name": "stdout",
          "text": [
            "Accuracy: 0.94\n",
            "Standard Deviation: 0.02\n",
            "F1 Score: 0.91\n",
            "Confusion matrix: \n",
            "[[91  1]\n",
            " [ 2 46]]\n"
          ]
        }
      ]
    },
    {
      "cell_type": "markdown",
      "source": [
        "### Compute the agreement between predictions and real targets with Cohen’s k"
      ],
      "metadata": {
        "id": "4ukUmi708hn8"
      }
    },
    {
      "cell_type": "code",
      "source": [
        "print(\"Cohen’s k: \", cohen_kappa_score(y_test, y_predicted))"
      ],
      "metadata": {
        "id": "9n25ktgj8ZZS",
        "colab": {
          "base_uri": "https://localhost:8080/"
        },
        "outputId": "350fcb95-6450-440d-f7a3-2f43fc3bf28a"
      },
      "execution_count": null,
      "outputs": [
        {
          "output_type": "stream",
          "name": "stdout",
          "text": [
            "Cohen’s k:  0.9522075557578517\n"
          ]
        }
      ]
    },
    {
      "cell_type": "markdown",
      "source": [
        "### Obtain the ROC curve and the AUC value"
      ],
      "metadata": {
        "id": "TxzV6Fz88nGn"
      }
    },
    {
      "cell_type": "code",
      "source": [
        "y_predict_proba = decision_tree.predict_proba(X_test)[::, 1]\n",
        "\n",
        "fpr, tpr, _ = roc_curve(y_test, y_predict_proba)\n",
        "auc = roc_auc_score(y_test, y_predict_proba)\n",
        "\n",
        "plt.plot(fpr, tpr, label=f\"AUC_DT = {str(auc)}\")\n",
        "plt.xlabel(\"False Positive Rate\")\n",
        "plt.ylabel(\"True Positive Rate\")\n",
        "plt.legend(loc=4)\n",
        "plt.show()"
      ],
      "metadata": {
        "colab": {
          "base_uri": "https://localhost:8080/",
          "height": 449
        },
        "id": "EHVGuS1L9Vqk",
        "outputId": "0899db55-77df-46e5-843e-10c693211d33"
      },
      "execution_count": null,
      "outputs": [
        {
          "output_type": "display_data",
          "data": {
            "text/plain": [
              "<Figure size 640x480 with 1 Axes>"
            ],
            "image/png": "[encoded data removed]"
          },
          "metadata": {}
        }
      ]
    },
    {
      "cell_type": "markdown",
      "source": [
        "### Apply the Wilcoxon test to compare the prediction of the decision tree with the prediction of an SVM classifier"
      ],
      "metadata": {
        "id": "51qdPd7w_OuC"
      }
    },
    {
      "cell_type": "code",
      "source": [
        "wilcoxon(decision_tree_accuracies, svm_accuracies)"
      ],
      "metadata": {
        "id": "-LJwajGK_OPa",
        "colab": {
          "base_uri": "https://localhost:8080/"
        },
        "outputId": "f5376045-0407-4798-dee6-b0caf0d51f84"
      },
      "execution_count": null,
      "outputs": [
        {
          "output_type": "execute_result",
          "data": {
            "text/plain": [
              "WilcoxonResult(statistic=0.0, pvalue=1.862645149230957e-09)"
            ]
          },
          "metadata": {},
          "execution_count": 9
        }
      ]
    },
    {
      "cell_type": "markdown",
      "source": [
        "## Build an R or Python program that trains a decision tree for Boston housing"
      ],
      "metadata": {
        "id": "cuh29rRDC020"
      }
    },
    {
      "cell_type": "code",
      "source": [
        "boston_df = read_csv_and_analyze_dataset('Boston.csv')"
      ],
      "metadata": {
        "colab": {
          "base_uri": "https://localhost:8080/"
        },
        "id": "5O2yON3uCnxX",
        "outputId": "a432dd60-b149-4e3c-cd77-c699a1a5d877"
      },
      "execution_count": null,
      "outputs": [
        {
          "output_type": "stream",
          "name": "stdout",
          "text": [
            "The dataset:\n",
            "     Unnamed: 0     crim    zn  indus  chas    nox     rm   age     dis  rad  \\\n",
            "0             1  0.00632  18.0   2.31     0  0.538  6.575  65.2  4.0900    1   \n",
            "1             2  0.02731   0.0   7.07     0  0.469  6.421  78.9  4.9671    2   \n",
            "2             3  0.02729   0.0   7.07     0  0.469  7.185  61.1  4.9671    2   \n",
            "3             4  0.03237   0.0   2.18     0  0.458  6.998  45.8  6.0622    3   \n",
            "4             5  0.06905   0.0   2.18     0  0.458  7.147  54.2  6.0622    3   \n",
            "..          ...      ...   ...    ...   ...    ...    ...   ...     ...  ...   \n",
            "501         502  0.06263   0.0  11.93     0  0.573  6.593  69.1  2.4786    1   \n",
            "502         503  0.04527   0.0  11.93     0  0.573  6.120  76.7  2.2875    1   \n",
            "503         504  0.06076   0.0  11.93     0  0.573  6.976  91.0  2.1675    1   \n",
            "504         505  0.10959   0.0  11.93     0  0.573  6.794  89.3  2.3889    1   \n",
            "505         506  0.04741   0.0  11.93     0  0.573  6.030  80.8  2.5050    1   \n",
            "\n",
            "     tax  ptratio   black  lstat  medv  \n",
            "0    296     15.3  396.90   4.98  24.0  \n",
            "1    242     17.8  396.90   9.14  21.6  \n",
            "2    242     17.8  392.83   4.03  34.7  \n",
            "3    222     18.7  394.63   2.94  33.4  \n",
            "4    222     18.7  396.90   5.33  36.2  \n",
            "..   ...      ...     ...    ...   ...  \n",
            "501  273     21.0  391.99   9.67  22.4  \n",
            "502  273     21.0  396.90   9.08  20.6  \n",
            "503  273     21.0  396.90   5.64  23.9  \n",
            "504  273     21.0  393.45   6.48  22.0  \n",
            "505  273     21.0  396.90   7.88  11.9  \n",
            "\n",
            "[506 rows x 15 columns]\n",
            "\n",
            "All the unique values for all columns that contain discrete values:\n",
            "\n"
          ]
        }
      ]
    },
    {
      "cell_type": "markdown",
      "source": [
        "### Conduct cross-validation by random subsampling with 30 runs"
      ],
      "metadata": {
        "id": "TDAF2F2rGG9T"
      }
    },
    {
      "cell_type": "code",
      "source": [
        "repeats = 30\n",
        "decision_tree_mse = []\n",
        "svm_mse = []\n",
        "\n",
        "for _ in range(0, repeats):\n",
        "  X_train, X_test, y_train, y_test = train_test_split(X, y, test_size=0.2)\n",
        "\n",
        "  decision_tree = DecisionTreeRegressor()\n",
        "  svm = SVC()\n",
        "\n",
        "  decision_tree.fit(X_train, y_train)\n",
        "  svm.fit(X_train, y_train)\n",
        "\n",
        "  y_predicted = decision_tree.predict(X_test)\n",
        "  y_predicted_svm = svm.predict(X_test)\n",
        "\n",
        "  decision_tree_mse.append(mean_squared_error(y_test, y_predicted))\n",
        "  svm_mse.append(mean_squared_error(y_test, y_predicted_svm))\n",
        "\n",
        "print(\"MSEs: \", decision_tree_mse)"
      ],
      "metadata": {
        "colab": {
          "base_uri": "https://localhost:8080/"
        },
        "id": "rGCq5w0zFmKi",
        "outputId": "8673b9e2-7de7-499b-cd7e-592a0c53c465"
      },
      "execution_count": null,
      "outputs": [
        {
          "output_type": "stream",
          "name": "stdout",
          "text": [
            "MSEs:  [0.07857142857142857, 0.05, 0.05, 0.05714285714285714, 0.1, 0.05, 0.02857142857142857, 0.05714285714285714, 0.04285714285714286, 0.08571428571428572, 0.06428571428571428, 0.04285714285714286, 0.07857142857142857, 0.06428571428571428, 0.04285714285714286, 0.09285714285714286, 0.02857142857142857, 0.07857142857142857, 0.05714285714285714, 0.09285714285714286, 0.05, 0.03571428571428571, 0.06428571428571428, 0.07142857142857142, 0.05714285714285714, 0.05714285714285714, 0.03571428571428571, 0.07857142857142857, 0.08571428571428572, 0.014285714285714285]\n"
          ]
        }
      ]
    },
    {
      "cell_type": "markdown",
      "source": [
        "### Obtain MSE, RMSE, MAE, MAPE, R^2 and Adjusted R^2"
      ],
      "metadata": {
        "id": "vCSuB2DqM0jO"
      }
    },
    {
      "cell_type": "code",
      "source": [
        "def r2_adjusted_score():\n",
        "    samples_nr = len(X_train)\n",
        "    features_nr = len(X.columns)\n",
        "\n",
        "    return 1 - ((1 - r2) * (samples_nr - 1) / (samples_nr - features_nr - 1))\n",
        "\n",
        "print(\"MSE: \", mean_squared_error(y_test, y_predicted))\n",
        "print(\"RMSE: \", mean_squared_error(y_test, y_predicted, squared=False))\n",
        "print(\"MAE: \", mean_absolute_error(y_test, y_predicted))\n",
        "print(\"MAPE: \", mean_absolute_percentage_error(y_test, y_predicted))\n",
        "\n",
        "r2 = r2_score(y_test, y_predicted)\n",
        "\n",
        "print(\"R^2: \", r2)\n",
        "print(\"Adjusted R^2: \", r2_adjusted_score())"
      ],
      "metadata": {
        "colab": {
          "base_uri": "https://localhost:8080/"
        },
        "id": "0hIzncLaMz6m",
        "outputId": "4d547e40-6d59-43a1-f055-c8b548fd1c91"
      },
      "execution_count": null,
      "outputs": [
        {
          "output_type": "stream",
          "name": "stdout",
          "text": [
            "MSE:  0.014285714285714285\n",
            "RMSE:  0.11952286093343936\n",
            "MAE:  0.014285714285714285\n",
            "MAPE:  32168568766932.12\n",
            "R^2:  0.9404761904761905\n",
            "Adjusted R^2:  0.9393899895724713\n"
          ]
        }
      ]
    },
    {
      "cell_type": "markdown",
      "source": [
        "### Apply the Wilcoxon test to compare the prediction of the decision tree with the prediction of an SVM"
      ],
      "metadata": {
        "id": "sHZtkmClM7qU"
      }
    },
    {
      "cell_type": "code",
      "source": [
        "wilcoxon(decision_tree_mse, svm_mse)"
      ],
      "metadata": {
        "colab": {
          "base_uri": "https://localhost:8080/"
        },
        "id": "SOEC4ufUMQiN",
        "outputId": "e3f4f562-979f-4d7c-8133-ff0789f8f6ea"
      },
      "execution_count": null,
      "outputs": [
        {
          "output_type": "execute_result",
          "data": {
            "text/plain": [
              "WilcoxonResult(statistic=0.0, pvalue=1.862645149230957e-09)"
            ]
          },
          "metadata": {},
          "execution_count": 13
        }
      ]
    },
    {
      "cell_type": "markdown",
      "source": [
        "## Construct at least 3 classifiers for the Iris, Pima and Wine data sets and try the application of Friedman’s test to rank their performance (R or Python)"
      ],
      "metadata": {
        "id": "C81twfegNbYb"
      }
    },
    {
      "cell_type": "code",
      "source": [
        "def transform_ordinal_columns(dataframe, column_names):\n",
        "  dataframe[column_names] = OrdinalEncoder().fit_transform(\n",
        "      dataframe[column_names]\n",
        "  )\n",
        "\n",
        "  return dataframe"
      ],
      "metadata": {
        "id": "N9PlScW8P8eD"
      },
      "execution_count": null,
      "outputs": []
    },
    {
      "cell_type": "code",
      "source": [
        "iris_X = read_csv_and_analyze_dataset('iris.csv')\n",
        "\n",
        "# This column is not actually ordinal, but we will need to apply an 'ordinal'\n",
        "# transformation to it in order to use it as 'y' in a multiclass classification\n",
        "# problem\n",
        "iris_X = transform_ordinal_columns(iris_X, ['variety'])\n",
        "\n",
        "iris_y = iris_X.pop('variety')"
      ],
      "metadata": {
        "id": "7BFObEiyNXa3",
        "colab": {
          "base_uri": "https://localhost:8080/"
        },
        "outputId": "024aa742-3e92-4afc-e4c3-9f521c64605c"
      },
      "execution_count": null,
      "outputs": [
        {
          "output_type": "stream",
          "name": "stdout",
          "text": [
            "The dataset:\n",
            "     sepal.length  sepal.width  petal.length  petal.width    variety\n",
            "0             5.1          3.5           1.4          0.2     Setosa\n",
            "1             4.9          3.0           1.4          0.2     Setosa\n",
            "2             4.7          3.2           1.3          0.2     Setosa\n",
            "3             4.6          3.1           1.5          0.2     Setosa\n",
            "4             5.0          3.6           1.4          0.2     Setosa\n",
            "..            ...          ...           ...          ...        ...\n",
            "145           6.7          3.0           5.2          2.3  Virginica\n",
            "146           6.3          2.5           5.0          1.9  Virginica\n",
            "147           6.5          3.0           5.2          2.0  Virginica\n",
            "148           6.2          3.4           5.4          2.3  Virginica\n",
            "149           5.9          3.0           5.1          1.8  Virginica\n",
            "\n",
            "[150 rows x 5 columns]\n",
            "\n",
            "All the unique values for all columns that contain discrete values:\n",
            "\n",
            "variety:\n",
            "Setosa (50)\n",
            "Versicolor (50)\n",
            "Virginica (50)\n",
            "\n"
          ]
        }
      ]
    },
    {
      "cell_type": "code",
      "source": [
        "diabetes_X = read_csv_and_analyze_dataset('diabetes.csv')\n",
        "\n",
        "diabetes_y = diabetes_X.pop('Outcome')"
      ],
      "metadata": {
        "colab": {
          "base_uri": "https://localhost:8080/"
        },
        "id": "D3n5vphpQJfY",
        "outputId": "5b28ff0e-5c6d-46ba-bfcc-907412b8c7fc"
      },
      "execution_count": null,
      "outputs": [
        {
          "output_type": "stream",
          "name": "stdout",
          "text": [
            "The dataset:\n",
            "     Pregnancies  Glucose  BloodPressure  SkinThickness  Insulin   BMI  \\\n",
            "0              6      148             72             35        0  33.6   \n",
            "1              1       85             66             29        0  26.6   \n",
            "2              8      183             64              0        0  23.3   \n",
            "3              1       89             66             23       94  28.1   \n",
            "4              0      137             40             35      168  43.1   \n",
            "..           ...      ...            ...            ...      ...   ...   \n",
            "763           10      101             76             48      180  32.9   \n",
            "764            2      122             70             27        0  36.8   \n",
            "765            5      121             72             23      112  26.2   \n",
            "766            1      126             60              0        0  30.1   \n",
            "767            1       93             70             31        0  30.4   \n",
            "\n",
            "     DiabetesPedigreeFunction  Age  Outcome  \n",
            "0                       0.627   50        1  \n",
            "1                       0.351   31        0  \n",
            "2                       0.672   32        1  \n",
            "3                       0.167   21        0  \n",
            "4                       2.288   33        1  \n",
            "..                        ...  ...      ...  \n",
            "763                     0.171   63        0  \n",
            "764                     0.340   27        0  \n",
            "765                     0.245   30        0  \n",
            "766                     0.349   47        1  \n",
            "767                     0.315   23        0  \n",
            "\n",
            "[768 rows x 9 columns]\n",
            "\n",
            "All the unique values for all columns that contain discrete values:\n",
            "\n"
          ]
        }
      ]
    },
    {
      "cell_type": "code",
      "source": [
        "wine_X = read_csv_and_analyze_dataset('winequalityN.csv')\n",
        "\n",
        "wine_X = wine_X.dropna()\n",
        "\n",
        "# This column is not actually ordinal, but we will need to apply an 'ordinal'\n",
        "# transformation to it in order to use it as 'y' in a multiclass classification\n",
        "# problem\n",
        "wine_X = transform_ordinal_columns(wine_X, ['type'])\n",
        "\n",
        "wine_y = wine_X.pop('quality')"
      ],
      "metadata": {
        "colab": {
          "base_uri": "https://localhost:8080/"
        },
        "id": "ACdRHwhgRIZs",
        "outputId": "04c92aa7-5285-4ce0-e40a-5f62d0f611e9"
      },
      "execution_count": null,
      "outputs": [
        {
          "output_type": "stream",
          "name": "stdout",
          "text": [
            "The dataset:\n",
            "       type  fixed acidity  volatile acidity  citric acid  residual sugar  \\\n",
            "0     white            7.0             0.270         0.36            20.7   \n",
            "1     white            6.3             0.300         0.34             1.6   \n",
            "2     white            8.1             0.280         0.40             6.9   \n",
            "3     white            7.2             0.230         0.32             8.5   \n",
            "4     white            7.2             0.230         0.32             8.5   \n",
            "...     ...            ...               ...          ...             ...   \n",
            "6492    red            6.2             0.600         0.08             2.0   \n",
            "6493    red            5.9             0.550         0.10             2.2   \n",
            "6494    red            6.3             0.510         0.13             2.3   \n",
            "6495    red            5.9             0.645         0.12             2.0   \n",
            "6496    red            6.0             0.310         0.47             3.6   \n",
            "\n",
            "      chlorides  free sulfur dioxide  total sulfur dioxide  density    pH  \\\n",
            "0         0.045                 45.0                 170.0  1.00100  3.00   \n",
            "1         0.049                 14.0                 132.0  0.99400  3.30   \n",
            "2         0.050                 30.0                  97.0  0.99510  3.26   \n",
            "3         0.058                 47.0                 186.0  0.99560  3.19   \n",
            "4         0.058                 47.0                 186.0  0.99560  3.19   \n",
            "...         ...                  ...                   ...      ...   ...   \n",
            "6492      0.090                 32.0                  44.0  0.99490  3.45   \n",
            "6493      0.062                 39.0                  51.0  0.99512  3.52   \n",
            "6494      0.076                 29.0                  40.0  0.99574  3.42   \n",
            "6495      0.075                 32.0                  44.0  0.99547  3.57   \n",
            "6496      0.067                 18.0                  42.0  0.99549  3.39   \n",
            "\n",
            "      sulphates  alcohol  quality  \n",
            "0          0.45      8.8        6  \n",
            "1          0.49      9.5        6  \n",
            "2          0.44     10.1        6  \n",
            "3          0.40      9.9        6  \n",
            "4          0.40      9.9        6  \n",
            "...         ...      ...      ...  \n",
            "6492       0.58     10.5        5  \n",
            "6493        NaN     11.2        6  \n",
            "6494       0.75     11.0        6  \n",
            "6495       0.71     10.2        5  \n",
            "6496       0.66     11.0        6  \n",
            "\n",
            "[6497 rows x 13 columns]\n",
            "\n",
            "All the unique values for all columns that contain discrete values:\n",
            "\n",
            "type:\n",
            "white (4898)\n",
            "red (1599)\n",
            "\n"
          ]
        }
      ]
    },
    {
      "cell_type": "code",
      "source": [
        "decision_tree_iris = DecisionTreeClassifier()\n",
        "decision_tree_diabetes = DecisionTreeClassifier()\n",
        "decision_tree_wine = DecisionTreeClassifier()\n",
        "\n",
        "iris_scores = cross_val_score(decision_tree_iris, iris_X, iris_y, cv=5)\n",
        "diabetes_scores = cross_val_score(\n",
        "    decision_tree_diabetes,\n",
        "    diabetes_X,\n",
        "    diabetes_y,\n",
        "    cv=5\n",
        ")\n",
        "wine_scores = cross_val_score(decision_tree_wine, wine_X, wine_y, cv=5)\n",
        "\n",
        "results = [iris_scores, diabetes_scores, wine_scores]\n",
        "\n",
        "statistic, p_value = friedmanchisquare(*results)\n",
        "\n",
        "print(\"Friedman Test Statistic: \", statistic)\n",
        "print(\"P-value: \", p_value)\n",
        "\n",
        "if p_value <= 0.05:\n",
        "    print(\"Null hypothesis rejected. There are significant differences in performance.\")\n",
        "\n",
        "    nemeyi_results = posthoc_nemenyi_friedman(results)\n",
        "\n",
        "    print(f\"Nemeyi test results:\\n{np.array(nemeyi_results)}\")\n",
        "else:\n",
        "    print(\"No significant difference in performance among the classifiers.\")"
      ],
      "metadata": {
        "colab": {
          "base_uri": "https://localhost:8080/"
        },
        "id": "5ap8-4aiRszg",
        "outputId": "92efb0ee-702f-4179-aae0-d29017a015bf"
      },
      "execution_count": null,
      "outputs": [
        {
          "output_type": "stream",
          "name": "stdout",
          "text": [
            "Friedman Test Statistic:  10.0\n",
            "P-value:  0.006737946999085468\n",
            "Null hypothesis rejected. There are significant differences in performance.\n",
            "Nemeyi test results:\n",
            "[[1.         0.9        0.9        0.52614072 0.9       ]\n",
            " [0.9        1.         0.67267429 0.9        0.9       ]\n",
            " [0.9        0.67267429 1.         0.23518425 0.67267429]\n",
            " [0.52614072 0.9        0.23518425 1.         0.9       ]\n",
            " [0.9        0.9        0.67267429 0.9        1.        ]]\n"
          ]
        }
      ]
    }
  ],
  "metadata": {
    "colab": {
      "provenance": []
    },
    "kernelspec": {
      "display_name": "Python 3",
      "name": "python3"
    },
    "language_info": {
      "name": "python"
    }
  },
  "nbformat": 4,
  "nbformat_minor": 0
}