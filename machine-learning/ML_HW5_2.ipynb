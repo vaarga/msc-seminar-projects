{
  "nbformat": 4,
  "nbformat_minor": 0,
  "metadata": {
    "colab": {
      "provenance": []
    },
    "kernelspec": {
      "name": "python3",
      "display_name": "Python 3"
    },
    "language_info": {
      "name": "python"
    }
  },
  "cells": [
    {
      "cell_type": "markdown",
      "source": [
        "# Machine Learning - Homework 5.2\n"
      ],
      "metadata": {
        "id": "ylayqqmDGROj"
      }
    },
    {
      "cell_type": "code",
      "source": [
        "import pandas as pd\n",
        "from sklearn.compose import make_column_transformer\n",
        "from sklearn.preprocessing import OneHotEncoder, OrdinalEncoder\n",
        "from sklearn.model_selection import train_test_split\n",
        "from sklearn.metrics import mean_squared_error, r2_score, confusion_matrix\n",
        "from sklearn.ensemble import (\n",
        "    BaggingClassifier,\n",
        "    AdaBoostClassifier,\n",
        "    RandomForestClassifier,\n",
        "    BaggingRegressor,\n",
        "    AdaBoostRegressor,\n",
        "    RandomForestRegressor\n",
        ")\n",
        "import xgboost as xgb"
      ],
      "metadata": {
        "id": "H4K5J2-lGr3p"
      },
      "execution_count": null,
      "outputs": []
    },
    {
      "cell_type": "code",
      "source": [
        "REGRESSION_MODEL_NAMES = [\n",
        "    'BaggingRegressor',\n",
        "    'AdaBoostRegressor',\n",
        "    'RandomForestRegressor'\n",
        "]\n",
        "\n",
        "def read_csv_and_analyze_dataset(path_to_csv):\n",
        "  dataframe = pd.read_csv(path_to_csv)\n",
        "\n",
        "  print(\"The dataset:\")\n",
        "  print(dataframe, end='\\n\\n')\n",
        "\n",
        "  print(\"All the unique values for all columns that contain discrete values:\")\n",
        "\n",
        "  for column_name in dataframe:\n",
        "    if not pd.api.types.is_numeric_dtype(dataframe[column_name]):\n",
        "      print(f\"\\n{column_name}:\")\n",
        "\n",
        "      for unique_value in dataframe[column_name].unique():\n",
        "        print(f\"{unique_value} ({len(dataframe.loc[dataframe[column_name] == unique_value])})\")\n",
        "\n",
        "  print()\n",
        "\n",
        "  return dataframe\n",
        "\n",
        "def transform_binary_and_nominal_columns(dataframe, column_names):\n",
        "  transformer = make_column_transformer(\n",
        "    (OneHotEncoder(drop='if_binary'), column_names),\n",
        "    remainder='passthrough'\n",
        "  )\n",
        "\n",
        "  transformed = transformer.fit_transform(dataframe)\n",
        "\n",
        "  return pd.DataFrame(\n",
        "      transformed,\n",
        "      columns=transformer.get_feature_names_out()\n",
        "  )\n",
        "\n",
        "def transform_ordinal_columns(dataframe, column_names):\n",
        "  dataframe[column_names] = OrdinalEncoder().fit_transform(\n",
        "      dataframe[column_names]\n",
        "  )\n",
        "\n",
        "  return dataframe\n",
        "\n",
        "def train_test_and_visualize_model(X, y, model):\n",
        "    X_train, X_test, y_train, y_test = train_test_split(\n",
        "        X,\n",
        "        y,\n",
        "        test_size=0.2,\n",
        "        shuffle=True\n",
        "    )\n",
        "\n",
        "    model.fit(X_train, y_train)\n",
        "\n",
        "    y_pred = model.predict(X_test)\n",
        "\n",
        "    if type(model).__name__ in REGRESSION_MODEL_NAMES:\n",
        "        print(\"Mean squared error: %.2f\" % mean_squared_error(y_test, y_pred))\n",
        "        print(\"Coefficient of determination: %.2f\" % r2_score(y_test, y_pred))\n",
        "    else:\n",
        "        print(\"Accuracy: %.2f\" % model.score(X_test, y_test))\n",
        "        print(\"Confusion matrix:\")\n",
        "        print(confusion_matrix(y_test, y_pred))"
      ],
      "metadata": {
        "id": "R6JmtozWuOoG"
      },
      "execution_count": null,
      "outputs": []
    },
    {
      "cell_type": "markdown",
      "source": [
        "## Apply bagging, boosting and random forests in R or Python for the Pima Indians Diabetes data set"
      ],
      "metadata": {
        "id": "AnDr2B46GamA"
      }
    },
    {
      "cell_type": "code",
      "source": [
        "diabetes_df = read_csv_and_analyze_dataset('diabetes.csv')"
      ],
      "metadata": {
        "id": "Ed1mnRO8tcU0",
        "colab": {
          "base_uri": "https://localhost:8080/"
        },
        "outputId": "533d8a46-8543-4209-e60a-406125c4a02c"
      },
      "execution_count": null,
      "outputs": [
        {
          "output_type": "stream",
          "name": "stdout",
          "text": [
            "The dataset:\n",
            "     Pregnancies  Glucose  BloodPressure  SkinThickness  Insulin   BMI  \\\n",
            "0              6      148             72             35        0  33.6   \n",
            "1              1       85             66             29        0  26.6   \n",
            "2              8      183             64              0        0  23.3   \n",
            "3              1       89             66             23       94  28.1   \n",
            "4              0      137             40             35      168  43.1   \n",
            "..           ...      ...            ...            ...      ...   ...   \n",
            "763           10      101             76             48      180  32.9   \n",
            "764            2      122             70             27        0  36.8   \n",
            "765            5      121             72             23      112  26.2   \n",
            "766            1      126             60              0        0  30.1   \n",
            "767            1       93             70             31        0  30.4   \n",
            "\n",
            "     DiabetesPedigreeFunction  Age  Outcome  \n",
            "0                       0.627   50        1  \n",
            "1                       0.351   31        0  \n",
            "2                       0.672   32        1  \n",
            "3                       0.167   21        0  \n",
            "4                       2.288   33        1  \n",
            "..                        ...  ...      ...  \n",
            "763                     0.171   63        0  \n",
            "764                     0.340   27        0  \n",
            "765                     0.245   30        0  \n",
            "766                     0.349   47        1  \n",
            "767                     0.315   23        0  \n",
            "\n",
            "[768 rows x 9 columns]\n",
            "\n",
            "All the unique values for all columns that contain discrete values:\n",
            "\n"
          ]
        }
      ]
    },
    {
      "cell_type": "code",
      "source": [
        "diabetes_y = diabetes_df.pop('Outcome')"
      ],
      "metadata": {
        "id": "2W-X-oq69_j-"
      },
      "execution_count": null,
      "outputs": []
    },
    {
      "cell_type": "code",
      "source": [
        "train_test_and_visualize_model(diabetes_df, diabetes_y, BaggingClassifier())"
      ],
      "metadata": {
        "id": "Q-vyV56I-kXR",
        "colab": {
          "base_uri": "https://localhost:8080/"
        },
        "outputId": "682c5a17-3f72-4453-92fb-66af91d7fbda"
      },
      "execution_count": null,
      "outputs": [
        {
          "output_type": "stream",
          "name": "stdout",
          "text": [
            "Accuracy: 0.81\n",
            "Confusion matrix:\n",
            "[[95 10]\n",
            " [19 30]]\n"
          ]
        }
      ]
    },
    {
      "cell_type": "code",
      "source": [
        "train_test_and_visualize_model(diabetes_df, diabetes_y, AdaBoostClassifier())"
      ],
      "metadata": {
        "id": "0QJ1d6276CFn",
        "colab": {
          "base_uri": "https://localhost:8080/"
        },
        "outputId": "3a2c76ed-0b68-4d4e-d1d4-901c8dd506fc"
      },
      "execution_count": null,
      "outputs": [
        {
          "output_type": "stream",
          "name": "stdout",
          "text": [
            "Accuracy: 0.78\n",
            "Confusion matrix:\n",
            "[[81 14]\n",
            " [20 39]]\n"
          ]
        }
      ]
    },
    {
      "cell_type": "code",
      "source": [
        "train_test_and_visualize_model(\n",
        "    diabetes_df,\n",
        "    diabetes_y,\n",
        "    RandomForestClassifier()\n",
        ")"
      ],
      "metadata": {
        "id": "MEXqr_mh6Cja",
        "colab": {
          "base_uri": "https://localhost:8080/"
        },
        "outputId": "9868e264-d2a9-4968-aa1e-c6b57e1ede98"
      },
      "execution_count": null,
      "outputs": [
        {
          "output_type": "stream",
          "name": "stdout",
          "text": [
            "Accuracy: 0.69\n",
            "Confusion matrix:\n",
            "[[76 17]\n",
            " [31 30]]\n"
          ]
        }
      ]
    },
    {
      "cell_type": "markdown",
      "source": [
        "## Apply bagging and boosting in R or Python for regression on the Boston data set"
      ],
      "metadata": {
        "id": "dj1VRHAlYF9H"
      }
    },
    {
      "cell_type": "code",
      "source": [
        "boston_df = read_csv_and_analyze_dataset('Boston.csv')"
      ],
      "metadata": {
        "id": "NN5rpVsAYK0A",
        "colab": {
          "base_uri": "https://localhost:8080/"
        },
        "outputId": "7098f9a5-ce1d-41f7-cf5b-e1df82329ed1"
      },
      "execution_count": null,
      "outputs": [
        {
          "output_type": "stream",
          "name": "stdout",
          "text": [
            "The dataset:\n",
            "     Unnamed: 0     crim    zn  indus  chas    nox     rm   age     dis  rad  \\\n",
            "0             1  0.00632  18.0   2.31     0  0.538  6.575  65.2  4.0900    1   \n",
            "1             2  0.02731   0.0   7.07     0  0.469  6.421  78.9  4.9671    2   \n",
            "2             3  0.02729   0.0   7.07     0  0.469  7.185  61.1  4.9671    2   \n",
            "3             4  0.03237   0.0   2.18     0  0.458  6.998  45.8  6.0622    3   \n",
            "4             5  0.06905   0.0   2.18     0  0.458  7.147  54.2  6.0622    3   \n",
            "..          ...      ...   ...    ...   ...    ...    ...   ...     ...  ...   \n",
            "501         502  0.06263   0.0  11.93     0  0.573  6.593  69.1  2.4786    1   \n",
            "502         503  0.04527   0.0  11.93     0  0.573  6.120  76.7  2.2875    1   \n",
            "503         504  0.06076   0.0  11.93     0  0.573  6.976  91.0  2.1675    1   \n",
            "504         505  0.10959   0.0  11.93     0  0.573  6.794  89.3  2.3889    1   \n",
            "505         506  0.04741   0.0  11.93     0  0.573  6.030  80.8  2.5050    1   \n",
            "\n",
            "     tax  ptratio   black  lstat  medv  \n",
            "0    296     15.3  396.90   4.98  24.0  \n",
            "1    242     17.8  396.90   9.14  21.6  \n",
            "2    242     17.8  392.83   4.03  34.7  \n",
            "3    222     18.7  394.63   2.94  33.4  \n",
            "4    222     18.7  396.90   5.33  36.2  \n",
            "..   ...      ...     ...    ...   ...  \n",
            "501  273     21.0  391.99   9.67  22.4  \n",
            "502  273     21.0  396.90   9.08  20.6  \n",
            "503  273     21.0  396.90   5.64  23.9  \n",
            "504  273     21.0  393.45   6.48  22.0  \n",
            "505  273     21.0  396.90   7.88  11.9  \n",
            "\n",
            "[506 rows x 15 columns]\n",
            "\n",
            "All the unique values for all columns that contain discrete values:\n",
            "\n"
          ]
        }
      ]
    },
    {
      "cell_type": "code",
      "source": [
        "boston_y = boston_df.pop('medv')"
      ],
      "metadata": {
        "id": "806h9V440QTh"
      },
      "execution_count": null,
      "outputs": []
    },
    {
      "cell_type": "code",
      "source": [
        "train_test_and_visualize_model(boston_df, boston_y, BaggingRegressor())"
      ],
      "metadata": {
        "id": "yQLDhlUZZaqK",
        "colab": {
          "base_uri": "https://localhost:8080/"
        },
        "outputId": "f67c8786-1803-48bc-fdb9-b72a4efb3c0f"
      },
      "execution_count": null,
      "outputs": [
        {
          "output_type": "stream",
          "name": "stdout",
          "text": [
            "Mean squared error: 10.73\n",
            "Coefficient of determination: 0.85\n"
          ]
        }
      ]
    },
    {
      "cell_type": "code",
      "source": [
        "train_test_and_visualize_model(boston_df, boston_y, AdaBoostRegressor())"
      ],
      "metadata": {
        "id": "tlViEIRt_Sts",
        "colab": {
          "base_uri": "https://localhost:8080/"
        },
        "outputId": "ad105d83-eb27-45bd-c07d-063564e88ff0"
      },
      "execution_count": null,
      "outputs": [
        {
          "output_type": "stream",
          "name": "stdout",
          "text": [
            "Mean squared error: 12.81\n",
            "Coefficient of determination: 0.75\n"
          ]
        }
      ]
    },
    {
      "cell_type": "markdown",
      "source": [
        "## Apply random forests in R or Python for the car price data set regression task"
      ],
      "metadata": {
        "id": "UjepBo6SwSZT"
      }
    },
    {
      "cell_type": "code",
      "source": [
        "car_df = read_csv_and_analyze_dataset('CarPrice.csv')"
      ],
      "metadata": {
        "id": "r2_Z2Y9qwSHC",
        "colab": {
          "base_uri": "https://localhost:8080/"
        },
        "outputId": "5aad2669-49b0-4759-d70f-d5e61fa34276"
      },
      "execution_count": null,
      "outputs": [
        {
          "output_type": "stream",
          "name": "stdout",
          "text": [
            "The dataset:\n",
            "     car_ID  symboling                   CarName fueltype aspiration  \\\n",
            "0         1          3        alfa-romero giulia      gas        std   \n",
            "1         2          3       alfa-romero stelvio      gas        std   \n",
            "2         3          1  alfa-romero Quadrifoglio      gas        std   \n",
            "3         4          2               audi 100 ls      gas        std   \n",
            "4         5          2                audi 100ls      gas        std   \n",
            "..      ...        ...                       ...      ...        ...   \n",
            "200     201         -1           volvo 145e (sw)      gas        std   \n",
            "201     202         -1               volvo 144ea      gas      turbo   \n",
            "202     203         -1               volvo 244dl      gas        std   \n",
            "203     204         -1                 volvo 246   diesel      turbo   \n",
            "204     205         -1               volvo 264gl      gas      turbo   \n",
            "\n",
            "    doornumber      carbody drivewheel enginelocation  wheelbase  ...  \\\n",
            "0          two  convertible        rwd          front       88.6  ...   \n",
            "1          two  convertible        rwd          front       88.6  ...   \n",
            "2          two    hatchback        rwd          front       94.5  ...   \n",
            "3         four        sedan        fwd          front       99.8  ...   \n",
            "4         four        sedan        4wd          front       99.4  ...   \n",
            "..         ...          ...        ...            ...        ...  ...   \n",
            "200       four        sedan        rwd          front      109.1  ...   \n",
            "201       four        sedan        rwd          front      109.1  ...   \n",
            "202       four        sedan        rwd          front      109.1  ...   \n",
            "203       four        sedan        rwd          front      109.1  ...   \n",
            "204       four        sedan        rwd          front      109.1  ...   \n",
            "\n",
            "     enginesize  fuelsystem  boreratio  stroke compressionratio horsepower  \\\n",
            "0           130        mpfi       3.47    2.68              9.0        111   \n",
            "1           130        mpfi       3.47    2.68              9.0        111   \n",
            "2           152        mpfi       2.68    3.47              9.0        154   \n",
            "3           109        mpfi       3.19    3.40             10.0        102   \n",
            "4           136        mpfi       3.19    3.40              8.0        115   \n",
            "..          ...         ...        ...     ...              ...        ...   \n",
            "200         141        mpfi       3.78    3.15              9.5        114   \n",
            "201         141        mpfi       3.78    3.15              8.7        160   \n",
            "202         173        mpfi       3.58    2.87              8.8        134   \n",
            "203         145         idi       3.01    3.40             23.0        106   \n",
            "204         141        mpfi       3.78    3.15              9.5        114   \n",
            "\n",
            "     peakrpm citympg  highwaympg    price  \n",
            "0       5000      21          27  13495.0  \n",
            "1       5000      21          27  16500.0  \n",
            "2       5000      19          26  16500.0  \n",
            "3       5500      24          30  13950.0  \n",
            "4       5500      18          22  17450.0  \n",
            "..       ...     ...         ...      ...  \n",
            "200     5400      23          28  16845.0  \n",
            "201     5300      19          25  19045.0  \n",
            "202     5500      18          23  21485.0  \n",
            "203     4800      26          27  22470.0  \n",
            "204     5400      19          25  22625.0  \n",
            "\n",
            "[205 rows x 26 columns]\n",
            "\n",
            "All the unique values for all columns that contain discrete values:\n",
            "\n",
            "CarName:\n",
            "alfa-romero giulia (1)\n",
            "alfa-romero stelvio (1)\n",
            "alfa-romero Quadrifoglio (1)\n",
            "audi 100 ls (1)\n",
            "audi 100ls (2)\n",
            "audi fox (1)\n",
            "audi 5000 (1)\n",
            "audi 4000 (1)\n",
            "audi 5000s (diesel) (1)\n",
            "bmw 320i (2)\n",
            "bmw x1 (1)\n",
            "bmw x3 (2)\n",
            "bmw z4 (1)\n",
            "bmw x4 (1)\n",
            "bmw x5 (1)\n",
            "chevrolet impala (1)\n",
            "chevrolet monte carlo (1)\n",
            "chevrolet vega 2300 (1)\n",
            "dodge rampage (1)\n",
            "dodge challenger se (1)\n",
            "dodge d200 (1)\n",
            "dodge monaco (sw) (1)\n",
            "dodge colt hardtop (1)\n",
            "dodge colt (sw) (1)\n",
            "dodge coronet custom (1)\n",
            "dodge dart custom (1)\n",
            "dodge coronet custom (sw) (1)\n",
            "honda civic (3)\n",
            "honda civic cvcc (2)\n",
            "honda accord cvcc (1)\n",
            "honda accord lx (1)\n",
            "honda civic 1500 gl (1)\n",
            "honda accord (2)\n",
            "honda civic 1300 (1)\n",
            "honda prelude (1)\n",
            "honda civic (auto) (1)\n",
            "isuzu MU-X (1)\n",
            "isuzu D-Max  (2)\n",
            "isuzu D-Max V-Cross (1)\n",
            "jaguar xj (1)\n",
            "jaguar xf (1)\n",
            "jaguar xk (1)\n",
            "maxda rx3 (1)\n",
            "maxda glc deluxe (1)\n",
            "mazda rx2 coupe (1)\n",
            "mazda rx-4 (2)\n",
            "mazda glc deluxe (2)\n",
            "mazda 626 (3)\n",
            "mazda glc (2)\n",
            "mazda rx-7 gs (2)\n",
            "mazda glc 4 (1)\n",
            "mazda glc custom l (1)\n",
            "mazda glc custom (1)\n",
            "buick electra 225 custom (1)\n",
            "buick century luxus (sw) (1)\n",
            "buick century (1)\n",
            "buick skyhawk (1)\n",
            "buick opel isuzu deluxe (1)\n",
            "buick skylark (1)\n",
            "buick century special (1)\n",
            "buick regal sport coupe (turbo) (1)\n",
            "mercury cougar (1)\n",
            "mitsubishi mirage (1)\n",
            "mitsubishi lancer (1)\n",
            "mitsubishi outlander (3)\n",
            "mitsubishi g4 (3)\n",
            "mitsubishi mirage g4 (3)\n",
            "mitsubishi montero (1)\n",
            "mitsubishi pajero (1)\n",
            "Nissan versa (1)\n",
            "nissan gt-r (1)\n",
            "nissan rogue (2)\n",
            "nissan latio (2)\n",
            "nissan titan (1)\n",
            "nissan leaf (1)\n",
            "nissan juke (1)\n",
            "nissan note (1)\n",
            "nissan clipper (2)\n",
            "nissan nv200 (1)\n",
            "nissan dayz (1)\n",
            "nissan fuga (1)\n",
            "nissan otti (1)\n",
            "nissan teana (1)\n",
            "nissan kicks (1)\n",
            "peugeot 504 (6)\n",
            "peugeot 304 (1)\n",
            "peugeot 504 (sw) (1)\n",
            "peugeot 604sl (2)\n",
            "peugeot 505s turbo diesel (1)\n",
            "plymouth fury iii (2)\n",
            "plymouth cricket (1)\n",
            "plymouth satellite custom (sw) (1)\n",
            "plymouth fury gran sedan (1)\n",
            "plymouth valiant (1)\n",
            "plymouth duster (1)\n",
            "porsche macan (1)\n",
            "porcshce panamera (1)\n",
            "porsche cayenne (2)\n",
            "porsche boxter (1)\n",
            "renault 12tl (1)\n",
            "renault 5 gtl (1)\n",
            "saab 99e (2)\n",
            "saab 99le (2)\n",
            "saab 99gle (2)\n",
            "subaru (2)\n",
            "subaru dl (4)\n",
            "subaru brz (1)\n",
            "subaru baja (1)\n",
            "subaru r1 (1)\n",
            "subaru r2 (1)\n",
            "subaru trezia (1)\n",
            "subaru tribeca (1)\n",
            "toyota corona mark ii (1)\n",
            "toyota corona (6)\n",
            "toyota corolla 1200 (2)\n",
            "toyota corona hardtop (1)\n",
            "toyota corolla 1600 (sw) (1)\n",
            "toyota carina (1)\n",
            "toyota mark ii (3)\n",
            "toyota corolla (6)\n",
            "toyota corolla liftback (2)\n",
            "toyota celica gt liftback (1)\n",
            "toyota corolla tercel (1)\n",
            "toyota corona liftback (1)\n",
            "toyota starlet (2)\n",
            "toyota tercel (1)\n",
            "toyota cressida (1)\n",
            "toyota celica gt (1)\n",
            "toyouta tercel (1)\n",
            "vokswagen rabbit (1)\n",
            "volkswagen 1131 deluxe sedan (1)\n",
            "volkswagen model 111 (1)\n",
            "volkswagen type 3 (1)\n",
            "volkswagen 411 (sw) (1)\n",
            "volkswagen super beetle (1)\n",
            "volkswagen dasher (2)\n",
            "vw dasher (1)\n",
            "vw rabbit (1)\n",
            "volkswagen rabbit (1)\n",
            "volkswagen rabbit custom (1)\n",
            "volvo 145e (sw) (2)\n",
            "volvo 144ea (2)\n",
            "volvo 244dl (2)\n",
            "volvo 245 (1)\n",
            "volvo 264gl (2)\n",
            "volvo diesel (1)\n",
            "volvo 246 (1)\n",
            "\n",
            "fueltype:\n",
            "gas (185)\n",
            "diesel (20)\n",
            "\n",
            "aspiration:\n",
            "std (168)\n",
            "turbo (37)\n",
            "\n",
            "doornumber:\n",
            "two (90)\n",
            "four (115)\n",
            "\n",
            "carbody:\n",
            "convertible (6)\n",
            "hatchback (70)\n",
            "sedan (96)\n",
            "wagon (25)\n",
            "hardtop (8)\n",
            "\n",
            "drivewheel:\n",
            "rwd (76)\n",
            "fwd (120)\n",
            "4wd (9)\n",
            "\n",
            "enginelocation:\n",
            "front (202)\n",
            "rear (3)\n",
            "\n",
            "enginetype:\n",
            "dohc (12)\n",
            "ohcv (13)\n",
            "ohc (148)\n",
            "l (12)\n",
            "rotor (4)\n",
            "ohcf (15)\n",
            "dohcv (1)\n",
            "\n",
            "cylindernumber:\n",
            "four (159)\n",
            "six (24)\n",
            "five (11)\n",
            "three (1)\n",
            "twelve (1)\n",
            "two (4)\n",
            "eight (5)\n",
            "\n",
            "fuelsystem:\n",
            "mpfi (94)\n",
            "2bbl (66)\n",
            "mfi (1)\n",
            "1bbl (11)\n",
            "spfi (1)\n",
            "4bbl (3)\n",
            "idi (20)\n",
            "spdi (9)\n",
            "\n"
          ]
        }
      ]
    },
    {
      "cell_type": "code",
      "source": [
        "car_df = car_df.drop(['CarName'], axis=1)\n",
        "\n",
        "binary_and_nominal_column_names = ['fueltype', 'aspiration', 'doornumber',\n",
        "                                   'carbody', 'drivewheel', 'enginelocation',\n",
        "                                   'enginetype', 'cylindernumber', 'fuelsystem']\n",
        "\n",
        "car_df = transform_binary_and_nominal_columns(\n",
        "    car_df,\n",
        "    binary_and_nominal_column_names\n",
        ")\n",
        "\n",
        "car_y = car_df.pop('remainder__price')"
      ],
      "metadata": {
        "id": "x6v5vXVFbS-w"
      },
      "execution_count": null,
      "outputs": []
    },
    {
      "cell_type": "code",
      "source": [
        "train_test_and_visualize_model(car_df, car_y, RandomForestRegressor())"
      ],
      "metadata": {
        "id": "K8ep2pbJ5WAZ",
        "colab": {
          "base_uri": "https://localhost:8080/"
        },
        "outputId": "110fa4ca-cb15-4c6c-e3b1-d38f16d87ee2"
      },
      "execution_count": null,
      "outputs": [
        {
          "output_type": "stream",
          "name": "stdout",
          "text": [
            "Mean squared error: 2459397.42\n",
            "Coefficient of determination: 0.94\n"
          ]
        }
      ]
    },
    {
      "cell_type": "markdown",
      "source": [
        "## Research XGBoost (gradient boosting), explain its concept of weak learners training on residuals and apply it on the Iris data set in either R or Python\n",
        "\n",
        "XGBoost is a powerful algorithm that employs an ensemble of decision trees as weak learners. What sets it apart is its iterative training process. In each step, it builds a new tree to correct the errors (residuals) of the current ensemble. This sequential learning, combined with gradient descent optimization, makes XGBoost highly effective in gradually improving its predictive performance."
      ],
      "metadata": {
        "id": "ARZI_mcjBPxA"
      }
    },
    {
      "cell_type": "code",
      "source": [
        "iris_df = read_csv_and_analyze_dataset('iris.csv')"
      ],
      "metadata": {
        "id": "AlTITbh9AT5N",
        "colab": {
          "base_uri": "https://localhost:8080/"
        },
        "outputId": "5b48b385-7d18-41a7-a284-7322bf280c99"
      },
      "execution_count": null,
      "outputs": [
        {
          "output_type": "stream",
          "name": "stdout",
          "text": [
            "The dataset:\n",
            "     sepal.length  sepal.width  petal.length  petal.width    variety\n",
            "0             5.1          3.5           1.4          0.2     Setosa\n",
            "1             4.9          3.0           1.4          0.2     Setosa\n",
            "2             4.7          3.2           1.3          0.2     Setosa\n",
            "3             4.6          3.1           1.5          0.2     Setosa\n",
            "4             5.0          3.6           1.4          0.2     Setosa\n",
            "..            ...          ...           ...          ...        ...\n",
            "145           6.7          3.0           5.2          2.3  Virginica\n",
            "146           6.3          2.5           5.0          1.9  Virginica\n",
            "147           6.5          3.0           5.2          2.0  Virginica\n",
            "148           6.2          3.4           5.4          2.3  Virginica\n",
            "149           5.9          3.0           5.1          1.8  Virginica\n",
            "\n",
            "[150 rows x 5 columns]\n",
            "\n",
            "All the unique values for all columns that contain discrete values:\n",
            "\n",
            "variety:\n",
            "Setosa (50)\n",
            "Versicolor (50)\n",
            "Virginica (50)\n",
            "\n"
          ]
        }
      ]
    },
    {
      "cell_type": "code",
      "source": [
        "# This column is not actually ordinal, but we will need to apply an 'ordinal'\n",
        "# transformation to it in order to use it as 'y' in a multiclass classification\n",
        "# problem\n",
        "iris_df = transform_ordinal_columns(iris_df, ['variety'])\n",
        "\n",
        "iris_y = iris_df.pop('variety')"
      ],
      "metadata": {
        "id": "3-zd9JKIBqWr"
      },
      "execution_count": null,
      "outputs": []
    },
    {
      "cell_type": "code",
      "source": [
        "xgb_model = xgb.XGBClassifier(\n",
        "    objective=\"multi:softmax\",\n",
        "    num_class=len(set(iris_y))\n",
        ")\n",
        "\n",
        "train_test_and_visualize_model(iris_df, iris_y, xgb_model)"
      ],
      "metadata": {
        "id": "SIrAknACCOrm",
        "colab": {
          "base_uri": "https://localhost:8080/"
        },
        "outputId": "003c0ef6-adf9-4d88-e0d1-7386f0960c39"
      },
      "execution_count": null,
      "outputs": [
        {
          "output_type": "stream",
          "name": "stdout",
          "text": [
            "Accuracy: 1.00\n",
            "Confusion matrix:\n",
            "[[10  0  0]\n",
            " [ 0 10  0]\n",
            " [ 0  0 10]]\n"
          ]
        }
      ]
    }
  ]
}