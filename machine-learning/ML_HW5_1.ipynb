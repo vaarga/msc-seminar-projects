{
  "nbformat": 4,
  "nbformat_minor": 0,
  "metadata": {
    "colab": {
      "provenance": []
    },
    "kernelspec": {
      "name": "python3",
      "display_name": "Python 3"
    },
    "language_info": {
      "name": "python"
    }
  },
  "cells": [
    {
      "cell_type": "markdown",
      "source": [
        "# Machine Learning - Homework 5.1\n"
      ],
      "metadata": {
        "id": "ylayqqmDGROj"
      }
    },
    {
      "cell_type": "code",
      "source": [
        "!pip install dtreeviz"
      ],
      "metadata": {
        "id": "CVowMCBz6U27",
        "colab": {
          "base_uri": "https://localhost:8080/"
        },
        "outputId": "8d5ae6b7-c9dd-42fd-db6d-e383ca224eed"
      },
      "execution_count": null,
      "outputs": [
        {
          "output_type": "stream",
          "name": "stdout",
          "text": [
            "Collecting dtreeviz\n",
            "  Downloading dtreeviz-2.2.2-py3-none-any.whl (91 kB)\n",
            "\u001b[?25l     \u001b[90m━━━━━━━━━━━━━━━━━━━━━━━━━━━━━━━━━━━━━━━━\u001b[0m \u001b[32m0.0/91.8 kB\u001b[0m \u001b[31m?\u001b[0m eta \u001b[36m-:--:--\u001b[0m\r\u001b[2K     \u001b[91m━━━━━━━━━━━━━━━━━━━━━━━━━━\u001b[0m\u001b[91m╸\u001b[0m\u001b[90m━━━━━━━━━━━━━\u001b[0m \u001b[32m61.4/91.8 kB\u001b[0m \u001b[31m1.7 MB/s\u001b[0m eta \u001b[36m0:00:01\u001b[0m\r\u001b[2K     \u001b[90m━━━━━━━━━━━━━━━━━━━━━━━━━━━━━━━━━━━━━━━━\u001b[0m \u001b[32m91.8/91.8 kB\u001b[0m \u001b[31m1.9 MB/s\u001b[0m eta \u001b[36m0:00:00\u001b[0m\n",
            "\u001b[?25hRequirement already satisfied: graphviz>=0.9 in /usr/local/lib/python3.10/dist-packages (from dtreeviz) (0.20.1)\n",
            "Requirement already satisfied: pandas in /usr/local/lib/python3.10/dist-packages (from dtreeviz) (1.5.3)\n",
            "Requirement already satisfied: numpy in /usr/local/lib/python3.10/dist-packages (from dtreeviz) (1.23.5)\n",
            "Requirement already satisfied: scikit-learn in /usr/local/lib/python3.10/dist-packages (from dtreeviz) (1.2.2)\n",
            "Requirement already satisfied: matplotlib in /usr/local/lib/python3.10/dist-packages (from dtreeviz) (3.7.1)\n",
            "Requirement already satisfied: colour in /usr/local/lib/python3.10/dist-packages (from dtreeviz) (0.1.5)\n",
            "Requirement already satisfied: pytest in /usr/local/lib/python3.10/dist-packages (from dtreeviz) (7.4.3)\n",
            "Requirement already satisfied: contourpy>=1.0.1 in /usr/local/lib/python3.10/dist-packages (from matplotlib->dtreeviz) (1.1.1)\n",
            "Requirement already satisfied: cycler>=0.10 in /usr/local/lib/python3.10/dist-packages (from matplotlib->dtreeviz) (0.12.1)\n",
            "Requirement already satisfied: fonttools>=4.22.0 in /usr/local/lib/python3.10/dist-packages (from matplotlib->dtreeviz) (4.43.1)\n",
            "Requirement already satisfied: kiwisolver>=1.0.1 in /usr/local/lib/python3.10/dist-packages (from matplotlib->dtreeviz) (1.4.5)\n",
            "Requirement already satisfied: packaging>=20.0 in /usr/local/lib/python3.10/dist-packages (from matplotlib->dtreeviz) (23.2)\n",
            "Requirement already satisfied: pillow>=6.2.0 in /usr/local/lib/python3.10/dist-packages (from matplotlib->dtreeviz) (9.4.0)\n",
            "Requirement already satisfied: pyparsing>=2.3.1 in /usr/local/lib/python3.10/dist-packages (from matplotlib->dtreeviz) (3.1.1)\n",
            "Requirement already satisfied: python-dateutil>=2.7 in /usr/local/lib/python3.10/dist-packages (from matplotlib->dtreeviz) (2.8.2)\n",
            "Requirement already satisfied: pytz>=2020.1 in /usr/local/lib/python3.10/dist-packages (from pandas->dtreeviz) (2023.3.post1)\n",
            "Requirement already satisfied: iniconfig in /usr/local/lib/python3.10/dist-packages (from pytest->dtreeviz) (2.0.0)\n",
            "Requirement already satisfied: pluggy<2.0,>=0.12 in /usr/local/lib/python3.10/dist-packages (from pytest->dtreeviz) (1.3.0)\n",
            "Requirement already satisfied: exceptiongroup>=1.0.0rc8 in /usr/local/lib/python3.10/dist-packages (from pytest->dtreeviz) (1.1.3)\n",
            "Requirement already satisfied: tomli>=1.0.0 in /usr/local/lib/python3.10/dist-packages (from pytest->dtreeviz) (2.0.1)\n",
            "Requirement already satisfied: scipy>=1.3.2 in /usr/local/lib/python3.10/dist-packages (from scikit-learn->dtreeviz) (1.11.3)\n",
            "Requirement already satisfied: joblib>=1.1.1 in /usr/local/lib/python3.10/dist-packages (from scikit-learn->dtreeviz) (1.3.2)\n",
            "Requirement already satisfied: threadpoolctl>=2.0.0 in /usr/local/lib/python3.10/dist-packages (from scikit-learn->dtreeviz) (3.2.0)\n",
            "Requirement already satisfied: six>=1.5 in /usr/local/lib/python3.10/dist-packages (from python-dateutil>=2.7->matplotlib->dtreeviz) (1.16.0)\n",
            "Installing collected packages: dtreeviz\n",
            "Successfully installed dtreeviz-2.2.2\n"
          ]
        }
      ]
    },
    {
      "cell_type": "code",
      "source": [
        "import pandas as pd\n",
        "from sklearn.compose import make_column_transformer\n",
        "from sklearn.preprocessing import OneHotEncoder\n",
        "from sklearn.model_selection import train_test_split\n",
        "from sklearn.tree import DecisionTreeClassifier, DecisionTreeRegressor\n",
        "from sklearn.metrics import mean_squared_error, r2_score, confusion_matrix\n",
        "import logging\n",
        "import dtreeviz"
      ],
      "metadata": {
        "id": "H4K5J2-lGr3p"
      },
      "execution_count": null,
      "outputs": []
    },
    {
      "cell_type": "code",
      "source": [
        "logging.getLogger(\"matplotlib.font_manager\").setLevel(logging.ERROR)"
      ],
      "metadata": {
        "id": "B6H_J6nAFeTY"
      },
      "execution_count": null,
      "outputs": []
    },
    {
      "cell_type": "code",
      "source": [
        "def read_csv_and_analyze_dataset(path_to_csv):\n",
        "  dataframe = pd.read_csv(path_to_csv)\n",
        "\n",
        "  print(\"The dataset:\")\n",
        "  print(dataframe, end='\\n\\n')\n",
        "\n",
        "  print(\"All the unique values for all columns that contain discrete values:\")\n",
        "\n",
        "  for column_name in dataframe:\n",
        "    if not pd.api.types.is_numeric_dtype(dataframe[column_name]):\n",
        "      print(f\"\\n{column_name}:\")\n",
        "\n",
        "      for unique_value in dataframe[column_name].unique():\n",
        "        print(f\"{unique_value} ({len(dataframe.loc[dataframe[column_name] == unique_value])})\")\n",
        "\n",
        "  print()\n",
        "\n",
        "  return dataframe\n",
        "\n",
        "def transform_binary_and_nominal_columns(dataframe, column_names):\n",
        "  transformer = make_column_transformer(\n",
        "    (OneHotEncoder(drop='if_binary'), column_names),\n",
        "    remainder='passthrough'\n",
        "  )\n",
        "\n",
        "  transformed = transformer.fit_transform(dataframe)\n",
        "\n",
        "  return pd.DataFrame(\n",
        "      transformed,\n",
        "      columns=transformer.get_feature_names_out()\n",
        "  )\n",
        "\n",
        "def train_test_and_visualize_model(X, y, model, name):\n",
        "    X_train, X_test, y_train, y_test = train_test_split(\n",
        "        X,\n",
        "        y,\n",
        "        test_size=0.2,\n",
        "        shuffle=True\n",
        "    )\n",
        "\n",
        "    model.fit(X_train, y_train)\n",
        "\n",
        "    y_pred = model.predict(X_test)\n",
        "\n",
        "    if type(model).__name__ == 'DecisionTreeRegressor':\n",
        "        print(\"Mean squared error: %.2f\" % mean_squared_error(y_test, y_pred))\n",
        "        print(\"Coefficient of determination: %.2f\" % r2_score(y_test, y_pred))\n",
        "    else:\n",
        "        print(\"Accuracy: %.2f\" % model.score(X_test, y_test))\n",
        "        print(\"Confusion matrix:\")\n",
        "        print(confusion_matrix(y_test, y_pred))\n",
        "\n",
        "    if hasattr(model, 'tree_') and hasattr(model, 'feature_importances_'):\n",
        "        feature_names = X.columns if hasattr(X, 'columns') else None\n",
        "        class_names = model.classes_.astype(str) if hasattr(model, 'classes_') else None\n",
        "\n",
        "        viz = dtreeviz.model(model,\n",
        "                             X,\n",
        "                             y,\n",
        "                             target_name='label/target',\n",
        "                             feature_names=feature_names,\n",
        "                             class_names=class_names)\n",
        "\n",
        "        v = viz.view()\n",
        "\n",
        "        v.save(f\"{name}.svg\")"
      ],
      "metadata": {
        "id": "R6JmtozWuOoG"
      },
      "execution_count": null,
      "outputs": []
    },
    {
      "cell_type": "markdown",
      "source": [
        "## Implement in R or Python a decision tree model for Pima Indians Diabet"
      ],
      "metadata": {
        "id": "AnDr2B46GamA"
      }
    },
    {
      "cell_type": "code",
      "source": [
        "diabetes_df = read_csv_and_analyze_dataset('diabetes.csv')"
      ],
      "metadata": {
        "id": "Ed1mnRO8tcU0",
        "colab": {
          "base_uri": "https://localhost:8080/"
        },
        "outputId": "4b55a45c-433e-4176-e316-14930e17a831"
      },
      "execution_count": null,
      "outputs": [
        {
          "output_type": "stream",
          "name": "stdout",
          "text": [
            "The dataset:\n",
            "     Pregnancies  Glucose  BloodPressure  SkinThickness  Insulin   BMI  \\\n",
            "0              6      148             72             35        0  33.6   \n",
            "1              1       85             66             29        0  26.6   \n",
            "2              8      183             64              0        0  23.3   \n",
            "3              1       89             66             23       94  28.1   \n",
            "4              0      137             40             35      168  43.1   \n",
            "..           ...      ...            ...            ...      ...   ...   \n",
            "763           10      101             76             48      180  32.9   \n",
            "764            2      122             70             27        0  36.8   \n",
            "765            5      121             72             23      112  26.2   \n",
            "766            1      126             60              0        0  30.1   \n",
            "767            1       93             70             31        0  30.4   \n",
            "\n",
            "     DiabetesPedigreeFunction  Age  Outcome  \n",
            "0                       0.627   50        1  \n",
            "1                       0.351   31        0  \n",
            "2                       0.672   32        1  \n",
            "3                       0.167   21        0  \n",
            "4                       2.288   33        1  \n",
            "..                        ...  ...      ...  \n",
            "763                     0.171   63        0  \n",
            "764                     0.340   27        0  \n",
            "765                     0.245   30        0  \n",
            "766                     0.349   47        1  \n",
            "767                     0.315   23        0  \n",
            "\n",
            "[768 rows x 9 columns]\n",
            "\n",
            "All the unique values for all columns that contain discrete values:\n",
            "\n"
          ]
        }
      ]
    },
    {
      "cell_type": "code",
      "source": [
        "diabetes_y = diabetes_df.pop('Outcome')"
      ],
      "metadata": {
        "id": "2W-X-oq69_j-"
      },
      "execution_count": null,
      "outputs": []
    },
    {
      "cell_type": "code",
      "source": [
        "train_test_and_visualize_model(\n",
        "    diabetes_df,\n",
        "    diabetes_y,\n",
        "    DecisionTreeClassifier(),\n",
        "    'diabetes'\n",
        "  )"
      ],
      "metadata": {
        "id": "Q-vyV56I-kXR",
        "colab": {
          "base_uri": "https://localhost:8080/"
        },
        "outputId": "3b3ac4a9-7c55-4cc5-b695-7a5a230716af"
      },
      "execution_count": null,
      "outputs": [
        {
          "output_type": "stream",
          "name": "stdout",
          "text": [
            "Accuracy: 0.68\n",
            "Confusion matrix:\n",
            "[[75 26]\n",
            " [24 29]]\n"
          ]
        },
        {
          "output_type": "stream",
          "name": "stderr",
          "text": [
            "/usr/local/lib/python3.10/dist-packages/sklearn/base.py:439: UserWarning: X does not have valid feature names, but DecisionTreeClassifier was fitted with feature names\n"
          ]
        }
      ]
    },
    {
      "cell_type": "markdown",
      "source": [
        "## Build a decision tree for the tips data set regression task in either R or Python"
      ],
      "metadata": {
        "id": "dj1VRHAlYF9H"
      }
    },
    {
      "cell_type": "code",
      "source": [
        "tips_df = read_csv_and_analyze_dataset('tips.csv')"
      ],
      "metadata": {
        "id": "NN5rpVsAYK0A",
        "colab": {
          "base_uri": "https://localhost:8080/"
        },
        "outputId": "08ac2e74-ed5d-41a8-8e32-70c4bbd25edf"
      },
      "execution_count": null,
      "outputs": [
        {
          "output_type": "stream",
          "name": "stdout",
          "text": [
            "The dataset:\n",
            "     total_bill   tip     sex smoker   day    time  size\n",
            "0         16.99  1.01  Female     No   Sun  Dinner     2\n",
            "1         10.34  1.66    Male     No   Sun  Dinner     3\n",
            "2         21.01  3.50    Male     No   Sun  Dinner     3\n",
            "3         23.68  3.31    Male     No   Sun  Dinner     2\n",
            "4         24.59  3.61  Female     No   Sun  Dinner     4\n",
            "..          ...   ...     ...    ...   ...     ...   ...\n",
            "239       29.03  5.92    Male     No   Sat  Dinner     3\n",
            "240       27.18  2.00  Female    Yes   Sat  Dinner     2\n",
            "241       22.67  2.00    Male    Yes   Sat  Dinner     2\n",
            "242       17.82  1.75    Male     No   Sat  Dinner     2\n",
            "243       18.78  3.00  Female     No  Thur  Dinner     2\n",
            "\n",
            "[244 rows x 7 columns]\n",
            "\n",
            "All the unique values for all columns that contain discrete values:\n",
            "\n",
            "sex:\n",
            "Female (87)\n",
            "Male (157)\n",
            "\n",
            "smoker:\n",
            "No (151)\n",
            "Yes (93)\n",
            "\n",
            "day:\n",
            "Sun (76)\n",
            "Sat (87)\n",
            "Thur (62)\n",
            "Fri (19)\n",
            "\n",
            "time:\n",
            "Dinner (176)\n",
            "Lunch (68)\n",
            "\n"
          ]
        }
      ]
    },
    {
      "cell_type": "code",
      "source": [
        "tips_df = tips_df.replace({'day': { 'Thur': 4, 'Fri': 5, 'Sat': 6, 'Sun': 7 }})\n",
        "\n",
        "binary_column_names = ['sex', 'smoker', 'time']\n",
        "\n",
        "tips_df = transform_binary_and_nominal_columns(tips_df, binary_column_names)\n",
        "\n",
        "y = tips_df.pop('remainder__tip')"
      ],
      "metadata": {
        "id": "806h9V440QTh"
      },
      "execution_count": null,
      "outputs": []
    },
    {
      "cell_type": "code",
      "source": [
        "train_test_and_visualize_model(tips_df, y, DecisionTreeRegressor(), 'tips')"
      ],
      "metadata": {
        "id": "yQLDhlUZZaqK",
        "colab": {
          "base_uri": "https://localhost:8080/"
        },
        "outputId": "4315ef82-d46c-4081-9466-161c78cbc60b"
      },
      "execution_count": null,
      "outputs": [
        {
          "output_type": "stream",
          "name": "stdout",
          "text": [
            "Mean squared error: 1.31\n",
            "Coefficient of determination: 0.37\n"
          ]
        },
        {
          "output_type": "stream",
          "name": "stderr",
          "text": [
            "/usr/local/lib/python3.10/dist-packages/sklearn/base.py:439: UserWarning: X does not have valid feature names, but DecisionTreeRegressor was fitted with feature names\n"
          ]
        }
      ]
    },
    {
      "cell_type": "markdown",
      "source": [
        "## Build a decision tree for a car price data set regression task in either R or Python"
      ],
      "metadata": {
        "id": "UjepBo6SwSZT"
      }
    },
    {
      "cell_type": "code",
      "source": [
        "car_df = read_csv_and_analyze_dataset('CarPrice.csv')"
      ],
      "metadata": {
        "id": "r2_Z2Y9qwSHC",
        "colab": {
          "base_uri": "https://localhost:8080/"
        },
        "outputId": "7c7d7ed2-550c-494d-bc45-d720fa0121b3"
      },
      "execution_count": null,
      "outputs": [
        {
          "output_type": "stream",
          "name": "stdout",
          "text": [
            "The dataset:\n",
            "     car_ID  symboling                   CarName fueltype aspiration  \\\n",
            "0         1          3        alfa-romero giulia      gas        std   \n",
            "1         2          3       alfa-romero stelvio      gas        std   \n",
            "2         3          1  alfa-romero Quadrifoglio      gas        std   \n",
            "3         4          2               audi 100 ls      gas        std   \n",
            "4         5          2                audi 100ls      gas        std   \n",
            "..      ...        ...                       ...      ...        ...   \n",
            "200     201         -1           volvo 145e (sw)      gas        std   \n",
            "201     202         -1               volvo 144ea      gas      turbo   \n",
            "202     203         -1               volvo 244dl      gas        std   \n",
            "203     204         -1                 volvo 246   diesel      turbo   \n",
            "204     205         -1               volvo 264gl      gas      turbo   \n",
            "\n",
            "    doornumber      carbody drivewheel enginelocation  wheelbase  ...  \\\n",
            "0          two  convertible        rwd          front       88.6  ...   \n",
            "1          two  convertible        rwd          front       88.6  ...   \n",
            "2          two    hatchback        rwd          front       94.5  ...   \n",
            "3         four        sedan        fwd          front       99.8  ...   \n",
            "4         four        sedan        4wd          front       99.4  ...   \n",
            "..         ...          ...        ...            ...        ...  ...   \n",
            "200       four        sedan        rwd          front      109.1  ...   \n",
            "201       four        sedan        rwd          front      109.1  ...   \n",
            "202       four        sedan        rwd          front      109.1  ...   \n",
            "203       four        sedan        rwd          front      109.1  ...   \n",
            "204       four        sedan        rwd          front      109.1  ...   \n",
            "\n",
            "     enginesize  fuelsystem  boreratio  stroke compressionratio horsepower  \\\n",
            "0           130        mpfi       3.47    2.68              9.0        111   \n",
            "1           130        mpfi       3.47    2.68              9.0        111   \n",
            "2           152        mpfi       2.68    3.47              9.0        154   \n",
            "3           109        mpfi       3.19    3.40             10.0        102   \n",
            "4           136        mpfi       3.19    3.40              8.0        115   \n",
            "..          ...         ...        ...     ...              ...        ...   \n",
            "200         141        mpfi       3.78    3.15              9.5        114   \n",
            "201         141        mpfi       3.78    3.15              8.7        160   \n",
            "202         173        mpfi       3.58    2.87              8.8        134   \n",
            "203         145         idi       3.01    3.40             23.0        106   \n",
            "204         141        mpfi       3.78    3.15              9.5        114   \n",
            "\n",
            "     peakrpm citympg  highwaympg    price  \n",
            "0       5000      21          27  13495.0  \n",
            "1       5000      21          27  16500.0  \n",
            "2       5000      19          26  16500.0  \n",
            "3       5500      24          30  13950.0  \n",
            "4       5500      18          22  17450.0  \n",
            "..       ...     ...         ...      ...  \n",
            "200     5400      23          28  16845.0  \n",
            "201     5300      19          25  19045.0  \n",
            "202     5500      18          23  21485.0  \n",
            "203     4800      26          27  22470.0  \n",
            "204     5400      19          25  22625.0  \n",
            "\n",
            "[205 rows x 26 columns]\n",
            "\n",
            "All the unique values for all columns that contain discrete values:\n",
            "\n",
            "CarName:\n",
            "alfa-romero giulia (1)\n",
            "alfa-romero stelvio (1)\n",
            "alfa-romero Quadrifoglio (1)\n",
            "audi 100 ls (1)\n",
            "audi 100ls (2)\n",
            "audi fox (1)\n",
            "audi 5000 (1)\n",
            "audi 4000 (1)\n",
            "audi 5000s (diesel) (1)\n",
            "bmw 320i (2)\n",
            "bmw x1 (1)\n",
            "bmw x3 (2)\n",
            "bmw z4 (1)\n",
            "bmw x4 (1)\n",
            "bmw x5 (1)\n",
            "chevrolet impala (1)\n",
            "chevrolet monte carlo (1)\n",
            "chevrolet vega 2300 (1)\n",
            "dodge rampage (1)\n",
            "dodge challenger se (1)\n",
            "dodge d200 (1)\n",
            "dodge monaco (sw) (1)\n",
            "dodge colt hardtop (1)\n",
            "dodge colt (sw) (1)\n",
            "dodge coronet custom (1)\n",
            "dodge dart custom (1)\n",
            "dodge coronet custom (sw) (1)\n",
            "honda civic (3)\n",
            "honda civic cvcc (2)\n",
            "honda accord cvcc (1)\n",
            "honda accord lx (1)\n",
            "honda civic 1500 gl (1)\n",
            "honda accord (2)\n",
            "honda civic 1300 (1)\n",
            "honda prelude (1)\n",
            "honda civic (auto) (1)\n",
            "isuzu MU-X (1)\n",
            "isuzu D-Max  (2)\n",
            "isuzu D-Max V-Cross (1)\n",
            "jaguar xj (1)\n",
            "jaguar xf (1)\n",
            "jaguar xk (1)\n",
            "maxda rx3 (1)\n",
            "maxda glc deluxe (1)\n",
            "mazda rx2 coupe (1)\n",
            "mazda rx-4 (2)\n",
            "mazda glc deluxe (2)\n",
            "mazda 626 (3)\n",
            "mazda glc (2)\n",
            "mazda rx-7 gs (2)\n",
            "mazda glc 4 (1)\n",
            "mazda glc custom l (1)\n",
            "mazda glc custom (1)\n",
            "buick electra 225 custom (1)\n",
            "buick century luxus (sw) (1)\n",
            "buick century (1)\n",
            "buick skyhawk (1)\n",
            "buick opel isuzu deluxe (1)\n",
            "buick skylark (1)\n",
            "buick century special (1)\n",
            "buick regal sport coupe (turbo) (1)\n",
            "mercury cougar (1)\n",
            "mitsubishi mirage (1)\n",
            "mitsubishi lancer (1)\n",
            "mitsubishi outlander (3)\n",
            "mitsubishi g4 (3)\n",
            "mitsubishi mirage g4 (3)\n",
            "mitsubishi montero (1)\n",
            "mitsubishi pajero (1)\n",
            "Nissan versa (1)\n",
            "nissan gt-r (1)\n",
            "nissan rogue (2)\n",
            "nissan latio (2)\n",
            "nissan titan (1)\n",
            "nissan leaf (1)\n",
            "nissan juke (1)\n",
            "nissan note (1)\n",
            "nissan clipper (2)\n",
            "nissan nv200 (1)\n",
            "nissan dayz (1)\n",
            "nissan fuga (1)\n",
            "nissan otti (1)\n",
            "nissan teana (1)\n",
            "nissan kicks (1)\n",
            "peugeot 504 (6)\n",
            "peugeot 304 (1)\n",
            "peugeot 504 (sw) (1)\n",
            "peugeot 604sl (2)\n",
            "peugeot 505s turbo diesel (1)\n",
            "plymouth fury iii (2)\n",
            "plymouth cricket (1)\n",
            "plymouth satellite custom (sw) (1)\n",
            "plymouth fury gran sedan (1)\n",
            "plymouth valiant (1)\n",
            "plymouth duster (1)\n",
            "porsche macan (1)\n",
            "porcshce panamera (1)\n",
            "porsche cayenne (2)\n",
            "porsche boxter (1)\n",
            "renault 12tl (1)\n",
            "renault 5 gtl (1)\n",
            "saab 99e (2)\n",
            "saab 99le (2)\n",
            "saab 99gle (2)\n",
            "subaru (2)\n",
            "subaru dl (4)\n",
            "subaru brz (1)\n",
            "subaru baja (1)\n",
            "subaru r1 (1)\n",
            "subaru r2 (1)\n",
            "subaru trezia (1)\n",
            "subaru tribeca (1)\n",
            "toyota corona mark ii (1)\n",
            "toyota corona (6)\n",
            "toyota corolla 1200 (2)\n",
            "toyota corona hardtop (1)\n",
            "toyota corolla 1600 (sw) (1)\n",
            "toyota carina (1)\n",
            "toyota mark ii (3)\n",
            "toyota corolla (6)\n",
            "toyota corolla liftback (2)\n",
            "toyota celica gt liftback (1)\n",
            "toyota corolla tercel (1)\n",
            "toyota corona liftback (1)\n",
            "toyota starlet (2)\n",
            "toyota tercel (1)\n",
            "toyota cressida (1)\n",
            "toyota celica gt (1)\n",
            "toyouta tercel (1)\n",
            "vokswagen rabbit (1)\n",
            "volkswagen 1131 deluxe sedan (1)\n",
            "volkswagen model 111 (1)\n",
            "volkswagen type 3 (1)\n",
            "volkswagen 411 (sw) (1)\n",
            "volkswagen super beetle (1)\n",
            "volkswagen dasher (2)\n",
            "vw dasher (1)\n",
            "vw rabbit (1)\n",
            "volkswagen rabbit (1)\n",
            "volkswagen rabbit custom (1)\n",
            "volvo 145e (sw) (2)\n",
            "volvo 144ea (2)\n",
            "volvo 244dl (2)\n",
            "volvo 245 (1)\n",
            "volvo 264gl (2)\n",
            "volvo diesel (1)\n",
            "volvo 246 (1)\n",
            "\n",
            "fueltype:\n",
            "gas (185)\n",
            "diesel (20)\n",
            "\n",
            "aspiration:\n",
            "std (168)\n",
            "turbo (37)\n",
            "\n",
            "doornumber:\n",
            "two (90)\n",
            "four (115)\n",
            "\n",
            "carbody:\n",
            "convertible (6)\n",
            "hatchback (70)\n",
            "sedan (96)\n",
            "wagon (25)\n",
            "hardtop (8)\n",
            "\n",
            "drivewheel:\n",
            "rwd (76)\n",
            "fwd (120)\n",
            "4wd (9)\n",
            "\n",
            "enginelocation:\n",
            "front (202)\n",
            "rear (3)\n",
            "\n",
            "enginetype:\n",
            "dohc (12)\n",
            "ohcv (13)\n",
            "ohc (148)\n",
            "l (12)\n",
            "rotor (4)\n",
            "ohcf (15)\n",
            "dohcv (1)\n",
            "\n",
            "cylindernumber:\n",
            "four (159)\n",
            "six (24)\n",
            "five (11)\n",
            "three (1)\n",
            "twelve (1)\n",
            "two (4)\n",
            "eight (5)\n",
            "\n",
            "fuelsystem:\n",
            "mpfi (94)\n",
            "2bbl (66)\n",
            "mfi (1)\n",
            "1bbl (11)\n",
            "spfi (1)\n",
            "4bbl (3)\n",
            "idi (20)\n",
            "spdi (9)\n",
            "\n"
          ]
        }
      ]
    },
    {
      "cell_type": "code",
      "source": [
        "car_df = car_df.drop(['CarName'], axis=1)\n",
        "\n",
        "binary_and_nominal_column_names = ['fueltype', 'aspiration', 'doornumber',\n",
        "                                   'carbody', 'drivewheel', 'enginelocation',\n",
        "                                   'enginetype', 'cylindernumber', 'fuelsystem']\n",
        "\n",
        "car_df = transform_binary_and_nominal_columns(\n",
        "    car_df,\n",
        "    binary_and_nominal_column_names\n",
        ")\n",
        "\n",
        "car_y = car_df.pop('remainder__price')"
      ],
      "metadata": {
        "id": "x6v5vXVFbS-w"
      },
      "execution_count": null,
      "outputs": []
    },
    {
      "cell_type": "code",
      "source": [
        "train_test_and_visualize_model(\n",
        "    car_df,\n",
        "    car_y,\n",
        "    DecisionTreeRegressor(),\n",
        "    'car_prices'\n",
        ")"
      ],
      "metadata": {
        "id": "K8ep2pbJ5WAZ",
        "colab": {
          "base_uri": "https://localhost:8080/"
        },
        "outputId": "911e0d72-ec9c-4fb4-a3dd-fd91779ce53b"
      },
      "execution_count": null,
      "outputs": [
        {
          "output_type": "stream",
          "name": "stdout",
          "text": [
            "Mean squared error: 7506797.07\n",
            "Coefficient of determination: 0.91\n"
          ]
        },
        {
          "output_type": "stream",
          "name": "stderr",
          "text": [
            "/usr/local/lib/python3.10/dist-packages/sklearn/base.py:439: UserWarning: X does not have valid feature names, but DecisionTreeRegressor was fitted with feature names\n"
          ]
        }
      ]
    }
  ]
}