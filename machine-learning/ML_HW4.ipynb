{
  "nbformat": 4,
  "nbformat_minor": 0,
  "metadata": {
    "colab": {
      "provenance": []
    },
    "kernelspec": {
      "name": "python3",
      "display_name": "Python 3"
    },
    "language_info": {
      "name": "python"
    }
  },
  "cells": [
    {
      "cell_type": "markdown",
      "source": [
        "# Machine Learning - Homework 4"
      ],
      "metadata": {
        "id": "ylayqqmDGROj"
      }
    },
    {
      "cell_type": "code",
      "source": [
        "import pandas as pd\n",
        "from sklearn.compose import make_column_transformer\n",
        "from sklearn.preprocessing import OrdinalEncoder, OneHotEncoder\n",
        "from sklearn.model_selection import train_test_split\n",
        "from sklearn.preprocessing import MinMaxScaler, LabelEncoder\n",
        "from sklearn.neural_network import MLPClassifier, MLPRegressor\n",
        "from sklearn.svm import SVC\n",
        "from sklearn.metrics import mean_squared_error, r2_score, confusion_matrix"
      ],
      "metadata": {
        "id": "H4K5J2-lGr3p"
      },
      "execution_count": null,
      "outputs": []
    },
    {
      "cell_type": "code",
      "source": [
        "def read_csv_and_analyze_dataset(path_to_csv):\n",
        "  dataframe = pd.read_csv(path_to_csv)\n",
        "\n",
        "  print(\"The dataset:\")\n",
        "  print(dataframe, end='\\n\\n')\n",
        "\n",
        "  print(\"All the unique values for all columns that contain discrete values:\")\n",
        "\n",
        "  for column_name in dataframe:\n",
        "    if not pd.api.types.is_numeric_dtype(dataframe[column_name]):\n",
        "      print(f\"\\n{column_name}:\")\n",
        "\n",
        "      for unique_value in dataframe[column_name].unique():\n",
        "        print(f\"{unique_value} ({len(dataframe.loc[dataframe[column_name] == unique_value])})\")\n",
        "\n",
        "  print()\n",
        "\n",
        "  return dataframe\n",
        "\n",
        "def normalize_values(dataframe):\n",
        "    scaler = MinMaxScaler()\n",
        "\n",
        "    normalized_values = scaler.fit_transform(dataframe.values)\n",
        "    normalized = pd.DataFrame(normalized_values, columns=dataframe.columns)\n",
        "\n",
        "    return normalized\n",
        "\n",
        "def transform_ordinal_columns(dataframe, column_names):\n",
        "  dataframe[column_names] = OrdinalEncoder().fit_transform(\n",
        "      dataframe[column_names]\n",
        "  )\n",
        "\n",
        "  return dataframe\n",
        "\n",
        "def transform_binary_and_nominal_columns(dataframe, column_names):\n",
        "  transformer = make_column_transformer(\n",
        "    (OneHotEncoder(drop='if_binary'), column_names),\n",
        "    remainder='passthrough'\n",
        "  )\n",
        "\n",
        "  transformed = transformer.fit_transform(dataframe)\n",
        "\n",
        "  return pd.DataFrame(\n",
        "      transformed,\n",
        "      columns=transformer.get_feature_names_out()\n",
        "  )\n",
        "\n",
        "def train_and_test_model(X, y, model):\n",
        "  X_train, X_test, y_train, y_test = train_test_split(\n",
        "      X,\n",
        "      y,\n",
        "      test_size=0.2,\n",
        "      shuffle=True\n",
        "  )\n",
        "\n",
        "  model.fit(X_train, y_train)\n",
        "\n",
        "  y_pred = model.predict(X_test)\n",
        "\n",
        "  if type(model).__name__ == 'MLPRegressor':\n",
        "    print(\"Mean squared error: %.2f\" % mean_squared_error(y_test, y_pred))\n",
        "    print(\"Coefficient of determination: %.2f\" % r2_score(y_test, y_pred))\n",
        "  else:\n",
        "    print(\"Accuracy: %.2f\" % model.score(X_test, y_test))\n",
        "    print(\"Confusion matrix:\")\n",
        "    print(confusion_matrix(y_test, y_pred))\n"
      ],
      "metadata": {
        "id": "R6JmtozWuOoG"
      },
      "execution_count": null,
      "outputs": []
    },
    {
      "cell_type": "markdown",
      "source": [
        "## Implement in R or Python a neural network model for the Pima Indians Diabetes problem"
      ],
      "metadata": {
        "id": "AnDr2B46GamA"
      }
    },
    {
      "cell_type": "code",
      "source": [
        "diabetes_df = read_csv_and_analyze_dataset('diabetes.csv')"
      ],
      "metadata": {
        "colab": {
          "base_uri": "https://localhost:8080/"
        },
        "id": "Ed1mnRO8tcU0",
        "outputId": "e9973a90-9f10-4d21-ca5f-b753788dabff"
      },
      "execution_count": null,
      "outputs": [
        {
          "output_type": "stream",
          "name": "stdout",
          "text": [
            "The dataset:\n",
            "     Pregnancies  Glucose  BloodPressure  SkinThickness  Insulin   BMI  \\\n",
            "0              6      148             72             35        0  33.6   \n",
            "1              1       85             66             29        0  26.6   \n",
            "2              8      183             64              0        0  23.3   \n",
            "3              1       89             66             23       94  28.1   \n",
            "4              0      137             40             35      168  43.1   \n",
            "..           ...      ...            ...            ...      ...   ...   \n",
            "763           10      101             76             48      180  32.9   \n",
            "764            2      122             70             27        0  36.8   \n",
            "765            5      121             72             23      112  26.2   \n",
            "766            1      126             60              0        0  30.1   \n",
            "767            1       93             70             31        0  30.4   \n",
            "\n",
            "     DiabetesPedigreeFunction  Age  Outcome  \n",
            "0                       0.627   50        1  \n",
            "1                       0.351   31        0  \n",
            "2                       0.672   32        1  \n",
            "3                       0.167   21        0  \n",
            "4                       2.288   33        1  \n",
            "..                        ...  ...      ...  \n",
            "763                     0.171   63        0  \n",
            "764                     0.340   27        0  \n",
            "765                     0.245   30        0  \n",
            "766                     0.349   47        1  \n",
            "767                     0.315   23        0  \n",
            "\n",
            "[768 rows x 9 columns]\n",
            "\n",
            "All the unique values for all columns that contain discrete values:\n",
            "\n"
          ]
        }
      ]
    },
    {
      "cell_type": "code",
      "source": [
        "diabetes_df = normalize_values(diabetes_df)\n",
        "\n",
        "diabetes_y = diabetes_df.pop('Outcome')"
      ],
      "metadata": {
        "id": "2W-X-oq69_j-"
      },
      "execution_count": null,
      "outputs": []
    },
    {
      "cell_type": "code",
      "source": [
        "neural_network_model = MLPClassifier(\n",
        "    solver='adam',\n",
        "    hidden_layer_sizes=(10, 10, 10),\n",
        "    max_iter=3000\n",
        ")\n",
        "\n",
        "train_and_test_model(diabetes_df, diabetes_y, neural_network_model)"
      ],
      "metadata": {
        "colab": {
          "base_uri": "https://localhost:8080/"
        },
        "id": "Q-vyV56I-kXR",
        "outputId": "d8413a9d-9073-4750-e6c5-ee2498436cff"
      },
      "execution_count": null,
      "outputs": [
        {
          "output_type": "stream",
          "name": "stdout",
          "text": [
            "Accuracy: 0.80\n",
            "Confusion matrix:\n",
            "[[87 12]\n",
            " [19 36]]\n"
          ]
        }
      ]
    },
    {
      "cell_type": "markdown",
      "source": [
        "## Implement in R or Python a support vector machine model for the iris data set to be compared to the result of the neural network from this lecture"
      ],
      "metadata": {
        "id": "dj1VRHAlYF9H"
      }
    },
    {
      "cell_type": "code",
      "source": [
        "iris_df = read_csv_and_analyze_dataset('iris.csv')"
      ],
      "metadata": {
        "colab": {
          "base_uri": "https://localhost:8080/"
        },
        "id": "NN5rpVsAYK0A",
        "outputId": "002e5c60-3c25-484c-9737-fdcd8ba828a8"
      },
      "execution_count": null,
      "outputs": [
        {
          "output_type": "stream",
          "name": "stdout",
          "text": [
            "The dataset:\n",
            "     sepal.length  sepal.width  petal.length  petal.width    variety\n",
            "0             5.1          3.5           1.4          0.2     Setosa\n",
            "1             4.9          3.0           1.4          0.2     Setosa\n",
            "2             4.7          3.2           1.3          0.2     Setosa\n",
            "3             4.6          3.1           1.5          0.2     Setosa\n",
            "4             5.0          3.6           1.4          0.2     Setosa\n",
            "..            ...          ...           ...          ...        ...\n",
            "145           6.7          3.0           5.2          2.3  Virginica\n",
            "146           6.3          2.5           5.0          1.9  Virginica\n",
            "147           6.5          3.0           5.2          2.0  Virginica\n",
            "148           6.2          3.4           5.4          2.3  Virginica\n",
            "149           5.9          3.0           5.1          1.8  Virginica\n",
            "\n",
            "[150 rows x 5 columns]\n",
            "\n",
            "All the unique values for all columns that contain discrete values:\n",
            "\n",
            "variety:\n",
            "Setosa (50)\n",
            "Versicolor (50)\n",
            "Virginica (50)\n",
            "\n"
          ]
        }
      ]
    },
    {
      "cell_type": "code",
      "source": [
        "# This column is not actually ordinal, but we will need to apply an 'ordinal'\n",
        "# transformation to it in order to use it as 'y' in a multiclass classification\n",
        "# problem\n",
        "iris_df = transform_ordinal_columns(iris_df, ['variety'])\n",
        "\n",
        "iris_y = iris_df.pop('variety')\n",
        "\n",
        "iris_df = normalize_values(iris_df)"
      ],
      "metadata": {
        "id": "-1lVYmerJHD_"
      },
      "execution_count": null,
      "outputs": []
    },
    {
      "cell_type": "code",
      "source": [
        "support_vector_model = SVC()\n",
        "\n",
        "train_and_test_model(iris_df, iris_y, support_vector_model)"
      ],
      "metadata": {
        "colab": {
          "base_uri": "https://localhost:8080/"
        },
        "id": "yQLDhlUZZaqK",
        "outputId": "dd446f05-c3f7-4f24-b252-a2edfdd8c389"
      },
      "execution_count": null,
      "outputs": [
        {
          "output_type": "stream",
          "name": "stdout",
          "text": [
            "Accuracy: 0.97\n",
            "Confusion matrix:\n",
            "[[10  0  0]\n",
            " [ 0  8  1]\n",
            " [ 0  0 11]]\n"
          ]
        }
      ]
    },
    {
      "cell_type": "markdown",
      "source": [
        "## Build a neural network for a car price data set regression task in either R or Python"
      ],
      "metadata": {
        "id": "UjepBo6SwSZT"
      }
    },
    {
      "cell_type": "code",
      "source": [
        "car_df = read_csv_and_analyze_dataset('CarPrice.csv')"
      ],
      "metadata": {
        "id": "r2_Z2Y9qwSHC",
        "colab": {
          "base_uri": "https://localhost:8080/"
        },
        "outputId": "2f2482bd-ea8c-488c-d02d-f00f9a0cd45d"
      },
      "execution_count": null,
      "outputs": [
        {
          "output_type": "stream",
          "name": "stdout",
          "text": [
            "The dataset:\n",
            "     car_ID  symboling                   CarName fueltype aspiration  \\\n",
            "0         1          3        alfa-romero giulia      gas        std   \n",
            "1         2          3       alfa-romero stelvio      gas        std   \n",
            "2         3          1  alfa-romero Quadrifoglio      gas        std   \n",
            "3         4          2               audi 100 ls      gas        std   \n",
            "4         5          2                audi 100ls      gas        std   \n",
            "..      ...        ...                       ...      ...        ...   \n",
            "200     201         -1           volvo 145e (sw)      gas        std   \n",
            "201     202         -1               volvo 144ea      gas      turbo   \n",
            "202     203         -1               volvo 244dl      gas        std   \n",
            "203     204         -1                 volvo 246   diesel      turbo   \n",
            "204     205         -1               volvo 264gl      gas      turbo   \n",
            "\n",
            "    doornumber      carbody drivewheel enginelocation  wheelbase  ...  \\\n",
            "0          two  convertible        rwd          front       88.6  ...   \n",
            "1          two  convertible        rwd          front       88.6  ...   \n",
            "2          two    hatchback        rwd          front       94.5  ...   \n",
            "3         four        sedan        fwd          front       99.8  ...   \n",
            "4         four        sedan        4wd          front       99.4  ...   \n",
            "..         ...          ...        ...            ...        ...  ...   \n",
            "200       four        sedan        rwd          front      109.1  ...   \n",
            "201       four        sedan        rwd          front      109.1  ...   \n",
            "202       four        sedan        rwd          front      109.1  ...   \n",
            "203       four        sedan        rwd          front      109.1  ...   \n",
            "204       four        sedan        rwd          front      109.1  ...   \n",
            "\n",
            "     enginesize  fuelsystem  boreratio  stroke compressionratio horsepower  \\\n",
            "0           130        mpfi       3.47    2.68              9.0        111   \n",
            "1           130        mpfi       3.47    2.68              9.0        111   \n",
            "2           152        mpfi       2.68    3.47              9.0        154   \n",
            "3           109        mpfi       3.19    3.40             10.0        102   \n",
            "4           136        mpfi       3.19    3.40              8.0        115   \n",
            "..          ...         ...        ...     ...              ...        ...   \n",
            "200         141        mpfi       3.78    3.15              9.5        114   \n",
            "201         141        mpfi       3.78    3.15              8.7        160   \n",
            "202         173        mpfi       3.58    2.87              8.8        134   \n",
            "203         145         idi       3.01    3.40             23.0        106   \n",
            "204         141        mpfi       3.78    3.15              9.5        114   \n",
            "\n",
            "     peakrpm citympg  highwaympg    price  \n",
            "0       5000      21          27  13495.0  \n",
            "1       5000      21          27  16500.0  \n",
            "2       5000      19          26  16500.0  \n",
            "3       5500      24          30  13950.0  \n",
            "4       5500      18          22  17450.0  \n",
            "..       ...     ...         ...      ...  \n",
            "200     5400      23          28  16845.0  \n",
            "201     5300      19          25  19045.0  \n",
            "202     5500      18          23  21485.0  \n",
            "203     4800      26          27  22470.0  \n",
            "204     5400      19          25  22625.0  \n",
            "\n",
            "[205 rows x 26 columns]\n",
            "\n",
            "All the unique values for all columns that contain discrete values:\n",
            "\n",
            "CarName:\n",
            "alfa-romero giulia (1)\n",
            "alfa-romero stelvio (1)\n",
            "alfa-romero Quadrifoglio (1)\n",
            "audi 100 ls (1)\n",
            "audi 100ls (2)\n",
            "audi fox (1)\n",
            "audi 5000 (1)\n",
            "audi 4000 (1)\n",
            "audi 5000s (diesel) (1)\n",
            "bmw 320i (2)\n",
            "bmw x1 (1)\n",
            "bmw x3 (2)\n",
            "bmw z4 (1)\n",
            "bmw x4 (1)\n",
            "bmw x5 (1)\n",
            "chevrolet impala (1)\n",
            "chevrolet monte carlo (1)\n",
            "chevrolet vega 2300 (1)\n",
            "dodge rampage (1)\n",
            "dodge challenger se (1)\n",
            "dodge d200 (1)\n",
            "dodge monaco (sw) (1)\n",
            "dodge colt hardtop (1)\n",
            "dodge colt (sw) (1)\n",
            "dodge coronet custom (1)\n",
            "dodge dart custom (1)\n",
            "dodge coronet custom (sw) (1)\n",
            "honda civic (3)\n",
            "honda civic cvcc (2)\n",
            "honda accord cvcc (1)\n",
            "honda accord lx (1)\n",
            "honda civic 1500 gl (1)\n",
            "honda accord (2)\n",
            "honda civic 1300 (1)\n",
            "honda prelude (1)\n",
            "honda civic (auto) (1)\n",
            "isuzu MU-X (1)\n",
            "isuzu D-Max  (2)\n",
            "isuzu D-Max V-Cross (1)\n",
            "jaguar xj (1)\n",
            "jaguar xf (1)\n",
            "jaguar xk (1)\n",
            "maxda rx3 (1)\n",
            "maxda glc deluxe (1)\n",
            "mazda rx2 coupe (1)\n",
            "mazda rx-4 (2)\n",
            "mazda glc deluxe (2)\n",
            "mazda 626 (3)\n",
            "mazda glc (2)\n",
            "mazda rx-7 gs (2)\n",
            "mazda glc 4 (1)\n",
            "mazda glc custom l (1)\n",
            "mazda glc custom (1)\n",
            "buick electra 225 custom (1)\n",
            "buick century luxus (sw) (1)\n",
            "buick century (1)\n",
            "buick skyhawk (1)\n",
            "buick opel isuzu deluxe (1)\n",
            "buick skylark (1)\n",
            "buick century special (1)\n",
            "buick regal sport coupe (turbo) (1)\n",
            "mercury cougar (1)\n",
            "mitsubishi mirage (1)\n",
            "mitsubishi lancer (1)\n",
            "mitsubishi outlander (3)\n",
            "mitsubishi g4 (3)\n",
            "mitsubishi mirage g4 (3)\n",
            "mitsubishi montero (1)\n",
            "mitsubishi pajero (1)\n",
            "Nissan versa (1)\n",
            "nissan gt-r (1)\n",
            "nissan rogue (2)\n",
            "nissan latio (2)\n",
            "nissan titan (1)\n",
            "nissan leaf (1)\n",
            "nissan juke (1)\n",
            "nissan note (1)\n",
            "nissan clipper (2)\n",
            "nissan nv200 (1)\n",
            "nissan dayz (1)\n",
            "nissan fuga (1)\n",
            "nissan otti (1)\n",
            "nissan teana (1)\n",
            "nissan kicks (1)\n",
            "peugeot 504 (6)\n",
            "peugeot 304 (1)\n",
            "peugeot 504 (sw) (1)\n",
            "peugeot 604sl (2)\n",
            "peugeot 505s turbo diesel (1)\n",
            "plymouth fury iii (2)\n",
            "plymouth cricket (1)\n",
            "plymouth satellite custom (sw) (1)\n",
            "plymouth fury gran sedan (1)\n",
            "plymouth valiant (1)\n",
            "plymouth duster (1)\n",
            "porsche macan (1)\n",
            "porcshce panamera (1)\n",
            "porsche cayenne (2)\n",
            "porsche boxter (1)\n",
            "renault 12tl (1)\n",
            "renault 5 gtl (1)\n",
            "saab 99e (2)\n",
            "saab 99le (2)\n",
            "saab 99gle (2)\n",
            "subaru (2)\n",
            "subaru dl (4)\n",
            "subaru brz (1)\n",
            "subaru baja (1)\n",
            "subaru r1 (1)\n",
            "subaru r2 (1)\n",
            "subaru trezia (1)\n",
            "subaru tribeca (1)\n",
            "toyota corona mark ii (1)\n",
            "toyota corona (6)\n",
            "toyota corolla 1200 (2)\n",
            "toyota corona hardtop (1)\n",
            "toyota corolla 1600 (sw) (1)\n",
            "toyota carina (1)\n",
            "toyota mark ii (3)\n",
            "toyota corolla (6)\n",
            "toyota corolla liftback (2)\n",
            "toyota celica gt liftback (1)\n",
            "toyota corolla tercel (1)\n",
            "toyota corona liftback (1)\n",
            "toyota starlet (2)\n",
            "toyota tercel (1)\n",
            "toyota cressida (1)\n",
            "toyota celica gt (1)\n",
            "toyouta tercel (1)\n",
            "vokswagen rabbit (1)\n",
            "volkswagen 1131 deluxe sedan (1)\n",
            "volkswagen model 111 (1)\n",
            "volkswagen type 3 (1)\n",
            "volkswagen 411 (sw) (1)\n",
            "volkswagen super beetle (1)\n",
            "volkswagen dasher (2)\n",
            "vw dasher (1)\n",
            "vw rabbit (1)\n",
            "volkswagen rabbit (1)\n",
            "volkswagen rabbit custom (1)\n",
            "volvo 145e (sw) (2)\n",
            "volvo 144ea (2)\n",
            "volvo 244dl (2)\n",
            "volvo 245 (1)\n",
            "volvo 264gl (2)\n",
            "volvo diesel (1)\n",
            "volvo 246 (1)\n",
            "\n",
            "fueltype:\n",
            "gas (185)\n",
            "diesel (20)\n",
            "\n",
            "aspiration:\n",
            "std (168)\n",
            "turbo (37)\n",
            "\n",
            "doornumber:\n",
            "two (90)\n",
            "four (115)\n",
            "\n",
            "carbody:\n",
            "convertible (6)\n",
            "hatchback (70)\n",
            "sedan (96)\n",
            "wagon (25)\n",
            "hardtop (8)\n",
            "\n",
            "drivewheel:\n",
            "rwd (76)\n",
            "fwd (120)\n",
            "4wd (9)\n",
            "\n",
            "enginelocation:\n",
            "front (202)\n",
            "rear (3)\n",
            "\n",
            "enginetype:\n",
            "dohc (12)\n",
            "ohcv (13)\n",
            "ohc (148)\n",
            "l (12)\n",
            "rotor (4)\n",
            "ohcf (15)\n",
            "dohcv (1)\n",
            "\n",
            "cylindernumber:\n",
            "four (159)\n",
            "six (24)\n",
            "five (11)\n",
            "three (1)\n",
            "twelve (1)\n",
            "two (4)\n",
            "eight (5)\n",
            "\n",
            "fuelsystem:\n",
            "mpfi (94)\n",
            "2bbl (66)\n",
            "mfi (1)\n",
            "1bbl (11)\n",
            "spfi (1)\n",
            "4bbl (3)\n",
            "idi (20)\n",
            "spdi (9)\n",
            "\n"
          ]
        }
      ]
    },
    {
      "cell_type": "code",
      "source": [
        "car_df = car_df.drop(['CarName'], axis=1)\n",
        "\n",
        "binary_and_nominal_column_names = ['fueltype', 'aspiration', 'doornumber',\n",
        "                                   'carbody', 'drivewheel', 'enginelocation',\n",
        "                                   'enginetype', 'cylindernumber', 'fuelsystem']\n",
        "\n",
        "car_df = transform_binary_and_nominal_columns(\n",
        "    car_df,\n",
        "    binary_and_nominal_column_names\n",
        ")\n",
        "\n",
        "car_df = normalize_values(car_df)\n",
        "\n",
        "car_y = car_df.pop('remainder__price')"
      ],
      "metadata": {
        "id": "x6v5vXVFbS-w"
      },
      "execution_count": null,
      "outputs": []
    },
    {
      "cell_type": "code",
      "source": [
        "neural_network_regression_model = MLPRegressor()\n",
        "\n",
        "train_and_test_model(car_df, car_y, neural_network_regression_model)"
      ],
      "metadata": {
        "colab": {
          "base_uri": "https://localhost:8080/"
        },
        "id": "K8ep2pbJ5WAZ",
        "outputId": "4a16f028-bee0-4bb1-d6ac-56f9162b9c35"
      },
      "execution_count": null,
      "outputs": [
        {
          "output_type": "stream",
          "name": "stdout",
          "text": [
            "Mean squared error: 0.01\n",
            "Coefficient of determination: 0.82\n"
          ]
        }
      ]
    }
  ]
}